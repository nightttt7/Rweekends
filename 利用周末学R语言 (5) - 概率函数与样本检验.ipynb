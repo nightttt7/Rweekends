{
 "cells": [
  {
   "cell_type": "markdown",
   "metadata": {},
   "source": [
    "# 概率函数\n",
    "- **函数类别**\n",
    "- d density 密度函数\n",
    "- p distribution function 分布函数\n",
    "- q quantile function 分位数函数\n",
    "- r random 生成随机数\n",
    "- **分布类别**\n",
    "- Beta分布  beta\n",
    "- 二项分布  binom\n",
    "- 柯西分布  cauchy\n",
    "- 非中心卡方分布  chisq\n",
    "- 指数分布  exp\n",
    "- F分布  f\n",
    "- Gamma分布  gamma\n",
    "- 几何分布  geom\n",
    "- 超几何分布  hype\n",
    "- 对数正态分布  lnorm\n",
    "- Logistic分布  logis \n",
    "- 多项分布  multinom \n",
    "- 负二项分布  nbinom \n",
    "- 正态分布  norm \n",
    "- 泊松分布  pois \n",
    "- Wilcoxon符号秩分布  signrank \n",
    "- t分布  t \n",
    "- 均匀分布  unif \n",
    "- Weibull分布  weibull \n",
    "- Wilcoxon秩和分布  wilcox "
   ]
  },
  {
   "cell_type": "code",
   "execution_count": 8,
   "metadata": {},
   "outputs": [
    {
     "name": "stdout",
     "output_type": "stream",
     "text": [
      "[1] \"正态分布密度函数:略\"\n",
      "[1] \"正态分布分布函数:略\"\n",
      "[1] \"正态分布99%分位点\"\n"
     ]
    },
    {
     "data": {
      "text/html": [
       "2.32634787404084"
      ],
      "text/latex": [
       "2.32634787404084"
      ],
      "text/markdown": [
       "2.32634787404084"
      ],
      "text/plain": [
       "[1] 2.326348"
      ]
     },
     "metadata": {},
     "output_type": "display_data"
    },
    {
     "name": "stdout",
     "output_type": "stream",
     "text": [
      "[1] \"正态分布均值\"\n"
     ]
    },
    {
     "data": {
      "text/html": [
       "-0.0502903297954353"
      ],
      "text/latex": [
       "-0.0502903297954353"
      ],
      "text/markdown": [
       "-0.0502903297954353"
      ],
      "text/plain": [
       "[1] -0.05029033"
      ]
     },
     "metadata": {},
     "output_type": "display_data"
    },
    {
     "name": "stdout",
     "output_type": "stream",
     "text": [
      "[1] \"正态分布标准差\"\n"
     ]
    },
    {
     "data": {
      "text/html": [
       "0.987537150313575"
      ],
      "text/latex": [
       "0.987537150313575"
      ],
      "text/markdown": [
       "0.987537150313575"
      ],
      "text/plain": [
       "[1] 0.9875372"
      ]
     },
     "metadata": {},
     "output_type": "display_data"
    }
   ],
   "source": [
    "# 将-3,3 分割成30份\n",
    "x <- pretty(c(-3,3), 30)\n",
    "# 密度+正态\n",
    "y <- dnorm(x)\n",
    "print(\"正态分布密度函数:略\")\n",
    "# plot(x,y)\n",
    "# 分布+正态\n",
    "y <- pnorm(x)\n",
    "print(\"正态分布分布函数:略\")\n",
    "#plot(x,y)\n",
    "# 分位数+正态\n",
    "print(\"正态分布99%分位点\")\n",
    "qnorm(.99,mean=0,sd=1)\n",
    "# 随机数+正态\n",
    "x <- rnorm(1000,mean=0,sd=1)\n",
    "print(\"正态分布均值\")\n",
    "mean(x)\n",
    "print(\"正态分布标准差\")\n",
    "sd(x)"
   ]
  },
  {
   "cell_type": "code",
   "execution_count": 9,
   "metadata": {},
   "outputs": [
    {
     "data": {
      "text/html": [
       "<ol class=list-inline>\n",
       "\t<li>0.218089162139222</li>\n",
       "\t<li>0.987634242279455</li>\n",
       "</ol>\n"
      ],
      "text/latex": [
       "\\begin{enumerate*}\n",
       "\\item 0.218089162139222\n",
       "\\item 0.987634242279455\n",
       "\\end{enumerate*}\n"
      ],
      "text/markdown": [
       "1. 0.218089162139222\n",
       "2. 0.987634242279455\n",
       "\n",
       "\n"
      ],
      "text/plain": [
       "[1] 0.2180892 0.9876342"
      ]
     },
     "metadata": {},
     "output_type": "display_data"
    }
   ],
   "source": [
    "# set.seed()指定随机种子\n",
    "set.seed(1024)\n",
    "runif(2)"
   ]
  },
  {
   "cell_type": "code",
   "execution_count": 10,
   "metadata": {},
   "outputs": [
    {
     "data": {
      "text/html": [
       "<ol class=list-inline>\n",
       "\t<li>500</li>\n",
       "\t<li>3</li>\n",
       "</ol>\n"
      ],
      "text/latex": [
       "\\begin{enumerate*}\n",
       "\\item 500\n",
       "\\item 3\n",
       "\\end{enumerate*}\n"
      ],
      "text/markdown": [
       "1. 500\n",
       "2. 3\n",
       "\n",
       "\n"
      ],
      "text/plain": [
       "[1] 500   3"
      ]
     },
     "metadata": {},
     "output_type": "display_data"
    },
    {
     "data": {
      "text/html": [
       "<table>\n",
       "<thead><tr><th scope=col>y</th><th scope=col>x1</th><th scope=col>x2</th></tr></thead>\n",
       "<tbody>\n",
       "\t<tr><td> 98.8</td><td> 41.3</td><td>3.43 </td></tr>\n",
       "\t<tr><td>244.5</td><td>205.2</td><td>3.80 </td></tr>\n",
       "\t<tr><td>375.7</td><td>186.7</td><td>2.51 </td></tr>\n",
       "\t<tr><td>-59.2</td><td> 11.2</td><td>4.71 </td></tr>\n",
       "\t<tr><td>313.0</td><td>111.0</td><td>3.45 </td></tr>\n",
       "\t<tr><td>288.8</td><td>185.1</td><td>2.72 </td></tr>\n",
       "\t<tr><td>134.8</td><td>165.0</td><td>4.39 </td></tr>\n",
       "\t<tr><td>171.7</td><td> 97.4</td><td>3.64 </td></tr>\n",
       "\t<tr><td>167.3</td><td>101.0</td><td>3.50 </td></tr>\n",
       "\t<tr><td>121.1</td><td> 94.5</td><td>4.10 </td></tr>\n",
       "</tbody>\n",
       "</table>\n"
      ],
      "text/latex": [
       "\\begin{tabular}{r|lll}\n",
       " y & x1 & x2\\\\\n",
       "\\hline\n",
       "\t  98.8 &  41.3 & 3.43 \\\\\n",
       "\t 244.5 & 205.2 & 3.80 \\\\\n",
       "\t 375.7 & 186.7 & 2.51 \\\\\n",
       "\t -59.2 &  11.2 & 4.71 \\\\\n",
       "\t 313.0 & 111.0 & 3.45 \\\\\n",
       "\t 288.8 & 185.1 & 2.72 \\\\\n",
       "\t 134.8 & 165.0 & 4.39 \\\\\n",
       "\t 171.7 &  97.4 & 3.64 \\\\\n",
       "\t 167.3 & 101.0 & 3.50 \\\\\n",
       "\t 121.1 &  94.5 & 4.10 \\\\\n",
       "\\end{tabular}\n"
      ],
      "text/markdown": [
       "\n",
       "y | x1 | x2 | \n",
       "|---|---|---|---|---|---|---|---|---|---|\n",
       "|  98.8 |  41.3 | 3.43  | \n",
       "| 244.5 | 205.2 | 3.80  | \n",
       "| 375.7 | 186.7 | 2.51  | \n",
       "| -59.2 |  11.2 | 4.71  | \n",
       "| 313.0 | 111.0 | 3.45  | \n",
       "| 288.8 | 185.1 | 2.72  | \n",
       "| 134.8 | 165.0 | 4.39  | \n",
       "| 171.7 |  97.4 | 3.64  | \n",
       "| 167.3 | 101.0 | 3.50  | \n",
       "| 121.1 |  94.5 | 4.10  | \n",
       "\n",
       "\n"
      ],
      "text/plain": [
       "   y     x1    x2  \n",
       "1   98.8  41.3 3.43\n",
       "2  244.5 205.2 3.80\n",
       "3  375.7 186.7 2.51\n",
       "4  -59.2  11.2 4.71\n",
       "5  313.0 111.0 3.45\n",
       "6  288.8 185.1 2.72\n",
       "7  134.8 165.0 4.39\n",
       "8  171.7  97.4 3.64\n",
       "9  167.3 101.0 3.50\n",
       "10 121.1  94.5 4.10"
      ]
     },
     "metadata": {},
     "output_type": "display_data"
    }
   ],
   "source": [
    "# 生成多元正态数据 \n",
    "library(MASS)\n",
    "options(digits=3)\n",
    "set.seed(1234)\n",
    "mean <- c(230.7,146.7,3.6)\n",
    "sigma <- matrix(c(15360,6721.2,-47.1,\n",
    "                  6721.2,4700.9,-16.5,\n",
    "                  -47.1,-16.5,0.3),nrow=3,ncol=3)\n",
    "mydata <- mvrnorm(500,mean,sigma)\n",
    "mydata <- as.data.frame(mydata)\n",
    "names(mydata) <- c(\"y\",\"x1\",\"x2\")\n",
    "dim(mydata)\n",
    "head(mydata,n=10)"
   ]
  },
  {
   "cell_type": "markdown",
   "metadata": {},
   "source": [
    "# 样本检验"
   ]
  },
  {
   "cell_type": "code",
   "execution_count": 11,
   "metadata": {},
   "outputs": [
    {
     "data": {
      "text/plain": [
       "   Min. 1st Qu.  Median    Mean 3rd Qu.    Max. \n",
       "   1.60    2.16    4.00    3.49    4.45    5.10 "
      ]
     },
     "metadata": {},
     "output_type": "display_data"
    }
   ],
   "source": [
    "# 检验一个数据集的分布\n",
    "eruptions <- faithful$eruptions\n",
    "summary(eruptions)"
   ]
  },
  {
   "cell_type": "code",
   "execution_count": 12,
   "metadata": {},
   "outputs": [
    {
     "data": {
      "image/png": "[encoded data removed]",
      "text/plain": [
       "Plot with title \"Normal Q-Q Plot\""
      ]
     },
     "metadata": {},
     "output_type": "display_data"
    }
   ],
   "source": [
    "par(mfrow=c(2,2))\n",
    "# 绘制密度图\n",
    "hist(eruptions, seq(1.6, 5.2, 0.2), prob=TRUE)\n",
    "lines(density(eruptions,bw=0.1))\n",
    "rug(eruptions)\n",
    "# 绘制经验累积分布函数\n",
    "plot(ecdf(eruptions), do.points=FALSE, verticals=TRUE)\n",
    "rug(eruptions)\n",
    "# 用正态分布拟合火山爆发三分钟后的情况\n",
    "long <- eruptions[eruptions > 3]\n",
    "plot(ecdf(long), do.points=FALSE, verticals=TRUE)\n",
    "lines(seq(3, 5.4, 0.01),pnorm(seq(3, 5.4, 0.01),\n",
    "                             mean=mean(long),sd=sd(long)),lty=3)\n",
    "# QQplot,正态分布\n",
    "par(pty=\"s\") # 设置一个方形的图形区域\n",
    "qqnorm(long); qqline(long)"
   ]
  },
  {
   "cell_type": "code",
   "execution_count": 13,
   "metadata": {},
   "outputs": [
    {
     "data": {
      "text/plain": [
       "\n",
       "\tShapiro-Wilk normality test\n",
       "\n",
       "data:  long\n",
       "W = 1, p-value = 0.01\n"
      ]
     },
     "metadata": {},
     "output_type": "display_data"
    },
    {
     "name": "stderr",
     "output_type": "stream",
     "text": [
      "Warning message in ks.test(long, \"pnorm\", mean = mean(long), sd = sqrt(var(long))):\n",
      "\"ties should not be present for the Kolmogorov-Smirnov test\""
     ]
    },
    {
     "data": {
      "text/plain": [
       "\n",
       "\tOne-sample Kolmogorov-Smirnov test\n",
       "\n",
       "data:  long\n",
       "D = 0.07, p-value = 0.4\n",
       "alternative hypothesis: two-sided\n"
      ]
     },
     "metadata": {},
     "output_type": "display_data"
    }
   ],
   "source": [
    "# R提供了正规的正态性检验方法\n",
    "# Shapiro-Wilk 检验\n",
    "shapiro.test(long)\n",
    "# Kolmogorov-Smirnov 检验\n",
    "ks.test(long, \"pnorm\", mean = mean(long), sd = sqrt(var(long)))"
   ]
  },
  {
   "cell_type": "code",
   "execution_count": 14,
   "metadata": {},
   "outputs": [
    {
     "data": {
      "text/plain": [
       "\n",
       "\tWelch Two Sample t-test\n",
       "\n",
       "data:  A and B\n",
       "t = 3, df = 10, p-value = 0.007\n",
       "alternative hypothesis: true difference in means is not equal to 0\n",
       "95 percent confidence interval:\n",
       " 0.0139 0.0702\n",
       "sample estimates:\n",
       "mean of x mean of y \n",
       "       80        80 \n"
      ]
     },
     "metadata": {},
     "output_type": "display_data"
    },
    {
     "data": {
      "text/plain": [
       "\n",
       "\tF test to compare two variances\n",
       "\n",
       "data:  A and B\n",
       "F = 0.6, num df = 10, denom df = 7, p-value = 0.4\n",
       "alternative hypothesis: true ratio of variances is not equal to 1\n",
       "95 percent confidence interval:\n",
       " 0.125 2.105\n",
       "sample estimates:\n",
       "ratio of variances \n",
       "             0.584 \n"
      ]
     },
     "metadata": {},
     "output_type": "display_data"
    },
    {
     "data": {
      "text/plain": [
       "\n",
       "\tTwo Sample t-test\n",
       "\n",
       "data:  A and B\n",
       "t = 3, df = 20, p-value = 0.003\n",
       "alternative hypothesis: true difference in means is not equal to 0\n",
       "95 percent confidence interval:\n",
       " 0.0167 0.0673\n",
       "sample estimates:\n",
       "mean of x mean of y \n",
       "       80        80 \n"
      ]
     },
     "metadata": {},
     "output_type": "display_data"
    },
    {
     "name": "stderr",
     "output_type": "stream",
     "text": [
      "Warning message in wilcox.test.default(A, B):\n",
      "\"cannot compute exact p-value with ties\""
     ]
    },
    {
     "data": {
      "text/plain": [
       "\n",
       "\tWilcoxon rank sum test with continuity correction\n",
       "\n",
       "data:  A and B\n",
       "W = 90, p-value = 0.007\n",
       "alternative hypothesis: true location shift is not equal to 0\n"
      ]
     },
     "metadata": {},
     "output_type": "display_data"
    },
    {
     "name": "stderr",
     "output_type": "stream",
     "text": [
      "Warning message in ks.test(A, B):\n",
      "\"cannot compute exact p-value with ties\""
     ]
    },
    {
     "data": {
      "text/plain": [
       "\n",
       "\tTwo-sample Kolmogorov-Smirnov test\n",
       "\n",
       "data:  A and B\n",
       "D = 0.6, p-value = 0.06\n",
       "alternative hypothesis: two-sided\n"
      ]
     },
     "metadata": {},
     "output_type": "display_data"
    }
   ],
   "source": [
    "# 单样本和双样本检验\n",
    "A <- c(79.98,80.04,80.02,80.04,80.03,80.03,80.04,79.97,\n",
    "       80.05,80.03,80.02,80.00,80.02)\n",
    "B <- c(80.02, 79.94, 79.98, 79.97, 79.97, 80.03, 79.95, 79.97)\n",
    "# 非配对 t-检验\n",
    "t.test(A,B)\n",
    "# F检验来确定方差的齐性情况\n",
    "var.test(A, B)\n",
    "# 传统的假设方差齐性的t-检验\n",
    "t.test(A, B, var.equal=TRUE)\n",
    "# 双样本的Wilcoxon (或者Mann-Whitney)检验\n",
    "wilcox.test(A, B)\n",
    "# Kolmogorov-Smirnov 检验是对两个经验累计概率分布间的最大垂直距离进行统计\n",
    "ks.test(A, B)"
   ]
  },
  {
   "cell_type": "markdown",
   "metadata": {},
   "source": [
    "# 独立性检验"
   ]
  },
  {
   "cell_type": "code",
   "execution_count": 9,
   "metadata": {},
   "outputs": [
    {
     "data": {
      "text/plain": [
       "\n",
       "\tPearson's Chi-squared test\n",
       "\n",
       "data:  table1\n",
       "X-squared = 13.055, df = 2, p-value = 0.001463\n"
      ]
     },
     "metadata": {},
     "output_type": "display_data"
    }
   ],
   "source": [
    "# 卡方独立性检验\n",
    "library(vcd)\n",
    "ar <- Arthritis\n",
    "# treatment和imporved不独立\n",
    "table1 <- xtabs(~Treatment+Improved,data=ar)\n",
    "chisq.test(table1)"
   ]
  },
  {
   "cell_type": "code",
   "execution_count": 10,
   "metadata": {},
   "outputs": [
    {
     "name": "stderr",
     "output_type": "stream",
     "text": [
      "Warning message in chisq.test(table2):\n",
      "\"Chi-squared approximation may be incorrect\""
     ]
    },
    {
     "data": {
      "text/plain": [
       "\n",
       "\tPearson's Chi-squared test\n",
       "\n",
       "data:  table2\n",
       "X-squared = 4.8407, df = 2, p-value = 0.08889\n"
      ]
     },
     "metadata": {},
     "output_type": "display_data"
    }
   ],
   "source": [
    "# sex和imporved独立\n",
    "table2 <- xtabs(~Improved+Sex,data=ar)\n",
    "chisq.test(table2)"
   ]
  },
  {
   "cell_type": "code",
   "execution_count": 11,
   "metadata": {},
   "outputs": [
    {
     "data": {
      "text/plain": [
       "\n",
       "\tFisher's Exact Test for Count Data\n",
       "\n",
       "data:  table1\n",
       "p-value = 0.001393\n",
       "alternative hypothesis: two.sided\n"
      ]
     },
     "metadata": {},
     "output_type": "display_data"
    }
   ],
   "source": [
    "# fisher精确检验f\n",
    "fisher.test(table1)"
   ]
  },
  {
   "cell_type": "code",
   "execution_count": 13,
   "metadata": {},
   "outputs": [
    {
     "data": {
      "text/plain": [
       "\n",
       "\tFisher's Exact Test for Count Data\n",
       "\n",
       "data:  table2\n",
       "p-value = 0.1094\n",
       "alternative hypothesis: two.sided\n"
      ]
     },
     "metadata": {},
     "output_type": "display_data"
    }
   ],
   "source": [
    "fisher.test(table2)"
   ]
  },
  {
   "cell_type": "code",
   "execution_count": 14,
   "metadata": {},
   "outputs": [
    {
     "data": {
      "text/plain": [
       "\n",
       "\tCochran-Mantel-Haenszel test\n",
       "\n",
       "data:  table3\n",
       "Cochran-Mantel-Haenszel M^2 = 14.632, df = 2, p-value = 0.0006647\n"
      ]
     },
     "metadata": {},
     "output_type": "display_data"
    }
   ],
   "source": [
    "# Cochran—Mantel—Haenszel卡方检验\n",
    "table3 <- xtabs(~Treatment+Improved+Sex,data=ar)\n",
    "mantelhaen.test(table3)\n",
    "# 结果表明，患者接受的治疗与得到的改善在性别的每一水平下并不独立"
   ]
  },
  {
   "cell_type": "code",
   "execution_count": 15,
   "metadata": {},
   "outputs": [
    {
     "data": {
      "text/plain": [
       "                    X^2 df  P(> X^2)\n",
       "Likelihood Ratio 13.530  2 0.0011536\n",
       "Pearson          13.055  2 0.0014626\n",
       "\n",
       "Phi-Coefficient   : NA \n",
       "Contingency Coeff.: 0.367 \n",
       "Cramer's V        : 0.394 "
      ]
     },
     "metadata": {},
     "output_type": "display_data"
    }
   ],
   "source": [
    "# 计算相关性度量\n",
    "assocstats(table1)"
   ]
  },
  {
   "cell_type": "markdown",
   "metadata": {},
   "source": [
    "# 相关"
   ]
  },
  {
   "cell_type": "code",
   "execution_count": 16,
   "metadata": {},
   "outputs": [
    {
     "data": {
      "text/html": [
       "<table>\n",
       "<thead><tr><th></th><th scope=col>Population</th><th scope=col>Income</th><th scope=col>Illiteracy</th><th scope=col>Life Exp</th><th scope=col>Murder</th><th scope=col>HS Grad</th></tr></thead>\n",
       "<tbody>\n",
       "\t<tr><th scope=row>Population</th><td>19931683.7588</td><td>571229.7796  </td><td> 292.8679592 </td><td>-407.8424612 </td><td>5663.523714  </td><td>-3551.509551 </td></tr>\n",
       "\t<tr><th scope=row>Income</th><td>  571229.7796</td><td>377573.3061  </td><td>-163.7020408 </td><td> 280.6631837 </td><td>-521.894286  </td><td> 3076.768980 </td></tr>\n",
       "\t<tr><th scope=row>Illiteracy</th><td>     292.8680</td><td>  -163.7020  </td><td>   0.3715306 </td><td>  -0.4815122 </td><td>   1.581776  </td><td>   -3.235469 </td></tr>\n",
       "\t<tr><th scope=row>Life Exp</th><td>    -407.8425</td><td>   280.6632  </td><td>  -0.4815122 </td><td>   1.8020204 </td><td>  -3.869480  </td><td>    6.312685 </td></tr>\n",
       "\t<tr><th scope=row>Murder</th><td>    5663.5237</td><td>  -521.8943  </td><td>   1.5817755 </td><td>  -3.8694804 </td><td>  13.627465  </td><td>  -14.549616 </td></tr>\n",
       "\t<tr><th scope=row>HS Grad</th><td>   -3551.5096</td><td>  3076.7690  </td><td>  -3.2354694 </td><td>   6.3126849 </td><td> -14.549616  </td><td>   65.237894 </td></tr>\n",
       "</tbody>\n",
       "</table>\n"
      ],
      "text/latex": [
       "\\begin{tabular}{r|llllll}\n",
       "  & Population & Income & Illiteracy & Life Exp & Murder & HS Grad\\\\\n",
       "\\hline\n",
       "\tPopulation & 19931683.7588 & 571229.7796   &  292.8679592  & -407.8424612  & 5663.523714   & -3551.509551 \\\\\n",
       "\tIncome &   571229.7796 & 377573.3061   & -163.7020408  &  280.6631837  & -521.894286   &  3076.768980 \\\\\n",
       "\tIlliteracy &      292.8680 &   -163.7020   &    0.3715306  &   -0.4815122  &    1.581776   &    -3.235469 \\\\\n",
       "\tLife Exp &     -407.8425 &    280.6632   &   -0.4815122  &    1.8020204  &   -3.869480   &     6.312685 \\\\\n",
       "\tMurder &     5663.5237 &   -521.8943   &    1.5817755  &   -3.8694804  &   13.627465   &   -14.549616 \\\\\n",
       "\tHS Grad &    -3551.5096 &   3076.7690   &   -3.2354694  &    6.3126849  &  -14.549616   &    65.237894 \\\\\n",
       "\\end{tabular}\n"
      ],
      "text/markdown": [
       "\n",
       "| <!--/--> | Population | Income | Illiteracy | Life Exp | Murder | HS Grad | \n",
       "|---|---|---|---|---|---|\n",
       "| Population | 19931683.7588 | 571229.7796   |  292.8679592  | -407.8424612  | 5663.523714   | -3551.509551  | \n",
       "| Income |   571229.7796 | 377573.3061   | -163.7020408  |  280.6631837  | -521.894286   |  3076.768980  | \n",
       "| Illiteracy |      292.8680 |   -163.7020   |    0.3715306  |   -0.4815122  |    1.581776   |    -3.235469  | \n",
       "| Life Exp |     -407.8425 |    280.6632   |   -0.4815122  |    1.8020204  |   -3.869480   |     6.312685  | \n",
       "| Murder |     5663.5237 |   -521.8943   |    1.5817755  |   -3.8694804  |   13.627465   |   -14.549616  | \n",
       "| HS Grad |    -3551.5096 |   3076.7690   |   -3.2354694  |    6.3126849  |  -14.549616   |    65.237894  | \n",
       "\n",
       "\n"
      ],
      "text/plain": [
       "           Population    Income      Illiteracy   Life Exp     Murder     \n",
       "Population 19931683.7588 571229.7796  292.8679592 -407.8424612 5663.523714\n",
       "Income       571229.7796 377573.3061 -163.7020408  280.6631837 -521.894286\n",
       "Illiteracy      292.8680   -163.7020    0.3715306   -0.4815122    1.581776\n",
       "Life Exp       -407.8425    280.6632   -0.4815122    1.8020204   -3.869480\n",
       "Murder         5663.5237   -521.8943    1.5817755   -3.8694804   13.627465\n",
       "HS Grad       -3551.5096   3076.7690   -3.2354694    6.3126849  -14.549616\n",
       "           HS Grad     \n",
       "Population -3551.509551\n",
       "Income      3076.768980\n",
       "Illiteracy    -3.235469\n",
       "Life Exp       6.312685\n",
       "Murder       -14.549616\n",
       "HS Grad       65.237894"
      ]
     },
     "metadata": {},
     "output_type": "display_data"
    }
   ],
   "source": [
    "# cor(x,use= , method= )\n",
    "# use: all.obs,everything,complete.obs(行删除),pairwise.complete.obs(成对删除)\n",
    "# method: pearson,spearman,kendall\n",
    "states <- state.x77[,1:6]\n",
    "# 方差与协方差\n",
    "cov(states)"
   ]
  },
  {
   "cell_type": "code",
   "execution_count": 17,
   "metadata": {},
   "outputs": [
    {
     "data": {
      "text/html": [
       "<table>\n",
       "<thead><tr><th></th><th scope=col>Population</th><th scope=col>Income</th><th scope=col>Illiteracy</th><th scope=col>Life Exp</th><th scope=col>Murder</th><th scope=col>HS Grad</th></tr></thead>\n",
       "<tbody>\n",
       "\t<tr><th scope=row>Population</th><td> 1.00000000</td><td> 0.2082276 </td><td> 0.1076224 </td><td>-0.06805195</td><td> 0.3436428 </td><td>-0.09848975</td></tr>\n",
       "\t<tr><th scope=row>Income</th><td> 0.20822756</td><td> 1.0000000 </td><td>-0.4370752 </td><td> 0.34025534</td><td>-0.2300776 </td><td> 0.61993232</td></tr>\n",
       "\t<tr><th scope=row>Illiteracy</th><td> 0.10762237</td><td>-0.4370752 </td><td> 1.0000000 </td><td>-0.58847793</td><td> 0.7029752 </td><td>-0.65718861</td></tr>\n",
       "\t<tr><th scope=row>Life Exp</th><td>-0.06805195</td><td> 0.3402553 </td><td>-0.5884779 </td><td> 1.00000000</td><td>-0.7808458 </td><td> 0.58221620</td></tr>\n",
       "\t<tr><th scope=row>Murder</th><td> 0.34364275</td><td>-0.2300776 </td><td> 0.7029752 </td><td>-0.78084575</td><td> 1.0000000 </td><td>-0.48797102</td></tr>\n",
       "\t<tr><th scope=row>HS Grad</th><td>-0.09848975</td><td> 0.6199323 </td><td>-0.6571886 </td><td> 0.58221620</td><td>-0.4879710 </td><td> 1.00000000</td></tr>\n",
       "</tbody>\n",
       "</table>\n"
      ],
      "text/latex": [
       "\\begin{tabular}{r|llllll}\n",
       "  & Population & Income & Illiteracy & Life Exp & Murder & HS Grad\\\\\n",
       "\\hline\n",
       "\tPopulation &  1.00000000 &  0.2082276  &  0.1076224  & -0.06805195 &  0.3436428  & -0.09848975\\\\\n",
       "\tIncome &  0.20822756 &  1.0000000  & -0.4370752  &  0.34025534 & -0.2300776  &  0.61993232\\\\\n",
       "\tIlliteracy &  0.10762237 & -0.4370752  &  1.0000000  & -0.58847793 &  0.7029752  & -0.65718861\\\\\n",
       "\tLife Exp & -0.06805195 &  0.3402553  & -0.5884779  &  1.00000000 & -0.7808458  &  0.58221620\\\\\n",
       "\tMurder &  0.34364275 & -0.2300776  &  0.7029752  & -0.78084575 &  1.0000000  & -0.48797102\\\\\n",
       "\tHS Grad & -0.09848975 &  0.6199323  & -0.6571886  &  0.58221620 & -0.4879710  &  1.00000000\\\\\n",
       "\\end{tabular}\n"
      ],
      "text/markdown": [
       "\n",
       "| <!--/--> | Population | Income | Illiteracy | Life Exp | Murder | HS Grad | \n",
       "|---|---|---|---|---|---|\n",
       "| Population |  1.00000000 |  0.2082276  |  0.1076224  | -0.06805195 |  0.3436428  | -0.09848975 | \n",
       "| Income |  0.20822756 |  1.0000000  | -0.4370752  |  0.34025534 | -0.2300776  |  0.61993232 | \n",
       "| Illiteracy |  0.10762237 | -0.4370752  |  1.0000000  | -0.58847793 |  0.7029752  | -0.65718861 | \n",
       "| Life Exp | -0.06805195 |  0.3402553  | -0.5884779  |  1.00000000 | -0.7808458  |  0.58221620 | \n",
       "| Murder |  0.34364275 | -0.2300776  |  0.7029752  | -0.78084575 |  1.0000000  | -0.48797102 | \n",
       "| HS Grad | -0.09848975 |  0.6199323  | -0.6571886  |  0.58221620 | -0.4879710  |  1.00000000 | \n",
       "\n",
       "\n"
      ],
      "text/plain": [
       "           Population  Income     Illiteracy Life Exp    Murder     HS Grad    \n",
       "Population  1.00000000  0.2082276  0.1076224 -0.06805195  0.3436428 -0.09848975\n",
       "Income      0.20822756  1.0000000 -0.4370752  0.34025534 -0.2300776  0.61993232\n",
       "Illiteracy  0.10762237 -0.4370752  1.0000000 -0.58847793  0.7029752 -0.65718861\n",
       "Life Exp   -0.06805195  0.3402553 -0.5884779  1.00000000 -0.7808458  0.58221620\n",
       "Murder      0.34364275 -0.2300776  0.7029752 -0.78084575  1.0000000 -0.48797102\n",
       "HS Grad    -0.09848975  0.6199323 -0.6571886  0.58221620 -0.4879710  1.00000000"
      ]
     },
     "metadata": {},
     "output_type": "display_data"
    }
   ],
   "source": [
    "# pearson相关系数\n",
    "cor(states)"
   ]
  },
  {
   "cell_type": "code",
   "execution_count": 18,
   "metadata": {},
   "outputs": [
    {
     "data": {
      "text/html": [
       "<table>\n",
       "<tbody>\n",
       "\t<tr><th scope=row>Population</th><td> 1.0000000</td></tr>\n",
       "\t<tr><th scope=row>Income</th><td> 0.1246098</td></tr>\n",
       "\t<tr><th scope=row>Illiteracy</th><td> 0.3130496</td></tr>\n",
       "\t<tr><th scope=row>Life Exp</th><td>-0.1040171</td></tr>\n",
       "\t<tr><th scope=row>Murder</th><td> 0.3457401</td></tr>\n",
       "\t<tr><th scope=row>HS Grad</th><td>-0.3833649</td></tr>\n",
       "</tbody>\n",
       "</table>\n"
      ],
      "text/latex": [
       "\\begin{tabular}{r|l}\n",
       "\tPopulation &  1.0000000\\\\\n",
       "\tIncome &  0.1246098\\\\\n",
       "\tIlliteracy &  0.3130496\\\\\n",
       "\tLife Exp & -0.1040171\\\\\n",
       "\tMurder &  0.3457401\\\\\n",
       "\tHS Grad & -0.3833649\\\\\n",
       "\\end{tabular}\n"
      ],
      "text/markdown": [
       "\n",
       "| Population |  1.0000000 | \n",
       "| Income |  0.1246098 | \n",
       "| Illiteracy |  0.3130496 | \n",
       "| Life Exp | -0.1040171 | \n",
       "| Murder |  0.3457401 | \n",
       "| HS Grad | -0.3833649 | \n",
       "\n",
       "\n"
      ],
      "text/plain": [
       "           [,1]      \n",
       "Population  1.0000000\n",
       "Income      0.1246098\n",
       "Illiteracy  0.3130496\n",
       "Life Exp   -0.1040171\n",
       "Murder      0.3457401\n",
       "HS Grad    -0.3833649"
      ]
     },
     "metadata": {},
     "output_type": "display_data"
    }
   ],
   "source": [
    "# Population与其他变量的spearman等级相关系数\n",
    "cor(states,states[,\"Population\"],method=\"spearman\")"
   ]
  },
  {
   "cell_type": "code",
   "execution_count": 19,
   "metadata": {},
   "outputs": [
    {
     "data": {
      "text/plain": [
       "\n",
       "\tPearson's product-moment correlation\n",
       "\n",
       "data:  states[, \"Life Exp\"] and states[, \"Murder\"]\n",
       "t = -8.6596, df = 48, p-value = 2.26e-11\n",
       "alternative hypothesis: true correlation is not equal to 0\n",
       "95 percent confidence interval:\n",
       " -0.8700837 -0.6420442\n",
       "sample estimates:\n",
       "       cor \n",
       "-0.7808458 \n"
      ]
     },
     "metadata": {},
     "output_type": "display_data"
    }
   ],
   "source": [
    "# 相关性的显著性实验\n",
    "# cor.test()函数对单个的Pearson、Spearman和Kendall相关系数进行检验\n",
    "# cor.test(x,y,alternative= , method= )\n",
    "# alternative则用来指定进行双侧检验或单侧检验# \"two.side\"、\"less\"或\"greater\"\n",
    "cor.test(states[,\"Life Exp\"],states[,\"Murder\"])\n",
    "# 原假设\"两者的相关度为0\",P值2.26e-11\n",
    "# murder和life exp的相关度的95%置信区间是[-0.8700837,-0.6420442]"
   ]
  },
  {
   "cell_type": "markdown",
   "metadata": {},
   "source": [
    "# 方差分析（ANOVA）"
   ]
  },
  {
   "cell_type": "code",
   "execution_count": 57,
   "metadata": {},
   "outputs": [
    {
     "data": {
      "text/plain": [
       "trt\n",
       " 1time 2times 4times  drugD  drugE \n",
       "    10     10     10     10     10 "
      ]
     },
     "metadata": {},
     "output_type": "display_data"
    }
   ],
   "source": [
    "# 单因素方差分析\n",
    "attach(multcomp::cholesterol)\n",
    "table(trt)"
   ]
  },
  {
   "cell_type": "code",
   "execution_count": 58,
   "metadata": {},
   "outputs": [
    {
     "data": {
      "text/html": [
       "<table>\n",
       "<thead><tr><th scope=col>Group.1</th><th scope=col>x</th></tr></thead>\n",
       "<tbody>\n",
       "\t<tr><td>1time   </td><td> 5.78197</td></tr>\n",
       "\t<tr><td>2times  </td><td> 9.22497</td></tr>\n",
       "\t<tr><td>4times  </td><td>12.37478</td></tr>\n",
       "\t<tr><td>drugD   </td><td>15.36117</td></tr>\n",
       "\t<tr><td>drugE   </td><td>20.94752</td></tr>\n",
       "</tbody>\n",
       "</table>\n"
      ],
      "text/latex": [
       "\\begin{tabular}{r|ll}\n",
       " Group.1 & x\\\\\n",
       "\\hline\n",
       "\t 1time    &  5.78197\\\\\n",
       "\t 2times   &  9.22497\\\\\n",
       "\t 4times   & 12.37478\\\\\n",
       "\t drugD    & 15.36117\\\\\n",
       "\t drugE    & 20.94752\\\\\n",
       "\\end{tabular}\n"
      ],
      "text/markdown": [
       "\n",
       "Group.1 | x | \n",
       "|---|---|---|---|---|\n",
       "| 1time    |  5.78197 | \n",
       "| 2times   |  9.22497 | \n",
       "| 4times   | 12.37478 | \n",
       "| drugD    | 15.36117 | \n",
       "| drugE    | 20.94752 | \n",
       "\n",
       "\n"
      ],
      "text/plain": [
       "  Group.1 x       \n",
       "1 1time    5.78197\n",
       "2 2times   9.22497\n",
       "3 4times  12.37478\n",
       "4 drugD   15.36117\n",
       "5 drugE   20.94752"
      ]
     },
     "metadata": {},
     "output_type": "display_data"
    }
   ],
   "source": [
    "aggregate(response, by=list(trt), FUN=mean)"
   ]
  },
  {
   "cell_type": "code",
   "execution_count": 59,
   "metadata": {},
   "outputs": [
    {
     "data": {
      "text/html": [
       "<table>\n",
       "<thead><tr><th scope=col>Group.1</th><th scope=col>x</th></tr></thead>\n",
       "<tbody>\n",
       "\t<tr><td>1time   </td><td>2.878113</td></tr>\n",
       "\t<tr><td>2times  </td><td>3.483054</td></tr>\n",
       "\t<tr><td>4times  </td><td>2.923119</td></tr>\n",
       "\t<tr><td>drugD   </td><td>3.454636</td></tr>\n",
       "\t<tr><td>drugE   </td><td>3.345003</td></tr>\n",
       "</tbody>\n",
       "</table>\n"
      ],
      "text/latex": [
       "\\begin{tabular}{r|ll}\n",
       " Group.1 & x\\\\\n",
       "\\hline\n",
       "\t 1time    & 2.878113\\\\\n",
       "\t 2times   & 3.483054\\\\\n",
       "\t 4times   & 2.923119\\\\\n",
       "\t drugD    & 3.454636\\\\\n",
       "\t drugE    & 3.345003\\\\\n",
       "\\end{tabular}\n"
      ],
      "text/markdown": [
       "\n",
       "Group.1 | x | \n",
       "|---|---|---|---|---|\n",
       "| 1time    | 2.878113 | \n",
       "| 2times   | 3.483054 | \n",
       "| 4times   | 2.923119 | \n",
       "| drugD    | 3.454636 | \n",
       "| drugE    | 3.345003 | \n",
       "\n",
       "\n"
      ],
      "text/plain": [
       "  Group.1 x       \n",
       "1 1time   2.878113\n",
       "2 2times  3.483054\n",
       "3 4times  2.923119\n",
       "4 drugD   3.454636\n",
       "5 drugE   3.345003"
      ]
     },
     "metadata": {},
     "output_type": "display_data"
    }
   ],
   "source": [
    "aggregate(response, by=list(trt), FUN=sd)"
   ]
  },
  {
   "cell_type": "code",
   "execution_count": 60,
   "metadata": {},
   "outputs": [
    {
     "data": {
      "text/plain": [
       "            Df Sum Sq Mean Sq F value   Pr(>F)    \n",
       "trt          4 1351.4   337.8   32.43 9.82e-13 ***\n",
       "Residuals   45  468.8    10.4                     \n",
       "---\n",
       "Signif. codes:  0 '***' 0.001 '**' 0.01 '*' 0.05 '.' 0.1 ' ' 1"
      ]
     },
     "metadata": {},
     "output_type": "display_data"
    }
   ],
   "source": [
    "fit <- aov(response ~ trt)\n",
    "summary(fit)"
   ]
  },
  {
   "cell_type": "code",
   "execution_count": 61,
   "metadata": {},
   "outputs": [
    {
     "data": {
      "image/png": "[encoded data removed]",
      "text/plain": [
       "plot without title"
      ]
     },
     "metadata": {},
     "output_type": "display_data"
    }
   ],
   "source": [
    "gplots::plotmeans(response ~ trt, xlab=\"treatment\",\n",
    "                 ylab=\"response\")\n",
    "detach(multcomp::cholesterol)\n",
    "# 95%置信区间"
   ]
  },
  {
   "cell_type": "code",
   "execution_count": 62,
   "metadata": {},
   "outputs": [
    {
     "data": {
      "text/plain": [
       "  Tukey multiple comparisons of means\n",
       "    95% family-wise confidence level\n",
       "\n",
       "Fit: aov(formula = response ~ trt)\n",
       "\n",
       "$trt\n",
       "                  diff        lwr       upr     p adj\n",
       "2times-1time   3.44300 -0.6582817  7.544282 0.1380949\n",
       "4times-1time   6.59281  2.4915283 10.694092 0.0003542\n",
       "drugD-1time    9.57920  5.4779183 13.680482 0.0000003\n",
       "drugE-1time   15.16555 11.0642683 19.266832 0.0000000\n",
       "4times-2times  3.14981 -0.9514717  7.251092 0.2050382\n",
       "drugD-2times   6.13620  2.0349183 10.237482 0.0009611\n",
       "drugE-2times  11.72255  7.6212683 15.823832 0.0000000\n",
       "drugD-4times   2.98639 -1.1148917  7.087672 0.2512446\n",
       "drugE-4times   8.57274  4.4714583 12.674022 0.0000037\n",
       "drugE-drugD    5.58635  1.4850683  9.687632 0.0030633\n"
      ]
     },
     "metadata": {},
     "output_type": "display_data"
    },
    {
     "data": {
      "image/png": "[encoded data removed]",
      "text/plain": [
       "Plot with title \"95% family-wise confidence level\n",
       "\""
      ]
     },
     "metadata": {},
     "output_type": "display_data"
    }
   ],
   "source": [
    "# 多重比较\n",
    "TukeyHSD(fit)\n",
    "par(las=2)\n",
    "par(mar=c(5,8,4,2))\n",
    "plot(TukeyHSD(fit))"
   ]
  },
  {
   "cell_type": "code",
   "execution_count": 63,
   "metadata": {},
   "outputs": [
    {
     "data": {
      "text/plain": [
       "\n",
       "\tBartlett test of homogeneity of variances\n",
       "\n",
       "data:  response by trt\n",
       "Bartlett's K-squared = 0.57975, df = 4, p-value = 0.9653\n"
      ]
     },
     "metadata": {},
     "output_type": "display_data"
    }
   ],
   "source": [
    "# 评估检验的假设条件\n",
    "# 方差齐性检验:Bartlett检验\n",
    "bartlett.test(response ~ trt, \n",
    "              data=multcomp::cholesterol)\n",
    "# 表明五组的方差并没有显著不同"
   ]
  },
  {
   "cell_type": "markdown",
   "metadata": {},
   "source": [
    "- 未看:R实战:p231-244\n",
    "- 单因素协方差分析\n",
    "- 单因素协方差分析\n",
    "- 重复测量方差分析\n",
    "- 多元方差分析"
   ]
  }
 ],
 "metadata": {
  "kernelspec": {
   "display_name": "R",
   "language": "R",
   "name": "ir"
  },
  "language_info": {
   "codemirror_mode": "r",
   "file_extension": ".r",
   "mimetype": "text/x-r-source",
   "name": "R",
   "pygments_lexer": "r",
   "version": "3.4.3"
  }
 },
 "nbformat": 4,
 "nbformat_minor": 2
}
