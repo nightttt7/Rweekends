{
 "cells": [
  {
   "cell_type": "markdown",
   "metadata": {},
   "source": [
    "# 概率函数\n",
    "- **函数类别**\n",
    "- d density 密度函数\n",
    "- p distribution function 分布函数\n",
    "- q quantile function 分位数函数\n",
    "- r random 生成随机数\n",
    "- **分布类别**\n",
    "- Beta分布  beta\n",
    "- 二项分布  binom\n",
    "- 柯西分布  cauchy\n",
    "- 非中心卡方分布  chisq\n",
    "- 指数分布  exp\n",
    "- F分布  f\n",
    "- Gamma分布  gamma\n",
    "- 几何分布  geom\n",
    "- 超几何分布  hype\n",
    "- 对数正态分布  lnorm\n",
    "- Logistic分布  logis \n",
    "- 多项分布  multinom \n",
    "- 负二项分布  nbinom \n",
    "- 正态分布  norm \n",
    "- 泊松分布  pois \n",
    "- Wilcoxon符号秩分布  signrank \n",
    "- t分布  t \n",
    "- 均匀分布  unif \n",
    "- Weibull分布  weibull \n",
    "- Wilcoxon秩和分布  wilcox "
   ]
  },
  {
   "cell_type": "code",
   "execution_count": 8,
   "metadata": {},
   "outputs": [
    {
     "name": "stdout",
     "output_type": "stream",
     "text": [
      "[1] \"正态分布密度函数:略\"\n",
      "[1] \"正态分布分布函数:略\"\n",
      "[1] \"正态分布99%分位点\"\n"
     ]
    },
    {
     "data": {
      "text/html": [
       "2.32634787404084"
      ],
      "text/latex": [
       "2.32634787404084"
      ],
      "text/markdown": [
       "2.32634787404084"
      ],
      "text/plain": [
       "[1] 2.326348"
      ]
     },
     "metadata": {},
     "output_type": "display_data"
    },
    {
     "name": "stdout",
     "output_type": "stream",
     "text": [
      "[1] \"正态分布均值\"\n"
     ]
    },
    {
     "data": {
      "text/html": [
       "-0.0502903297954353"
      ],
      "text/latex": [
       "-0.0502903297954353"
      ],
      "text/markdown": [
       "-0.0502903297954353"
      ],
      "text/plain": [
       "[1] -0.05029033"
      ]
     },
     "metadata": {},
     "output_type": "display_data"
    },
    {
     "name": "stdout",
     "output_type": "stream",
     "text": [
      "[1] \"正态分布标准差\"\n"
     ]
    },
    {
     "data": {
      "text/html": [
       "0.987537150313575"
      ],
      "text/latex": [
       "0.987537150313575"
      ],
      "text/markdown": [
       "0.987537150313575"
      ],
      "text/plain": [
       "[1] 0.9875372"
      ]
     },
     "metadata": {},
     "output_type": "display_data"
    }
   ],
   "source": [
    "# 将-3,3 分割成30份\n",
    "x <- pretty(c(-3,3), 30)\n",
    "# 密度+正态\n",
    "y <- dnorm(x)\n",
    "print(\"正态分布密度函数:略\")\n",
    "# plot(x,y)\n",
    "# 分布+正态\n",
    "y <- pnorm(x)\n",
    "print(\"正态分布分布函数:略\")\n",
    "#plot(x,y)\n",
    "# 分位数+正态\n",
    "print(\"正态分布99%分位点\")\n",
    "qnorm(.99,mean=0,sd=1)\n",
    "# 随机数+正态\n",
    "x <- rnorm(1000,mean=0,sd=1)\n",
    "print(\"正态分布均值\")\n",
    "mean(x)\n",
    "print(\"正态分布标准差\")\n",
    "sd(x)"
   ]
  },
  {
   "cell_type": "code",
   "execution_count": 9,
   "metadata": {},
   "outputs": [
    {
     "data": {
      "text/html": [
       "<ol class=list-inline>\n",
       "\t<li>0.218089162139222</li>\n",
       "\t<li>0.987634242279455</li>\n",
       "</ol>\n"
      ],
      "text/latex": [
       "\\begin{enumerate*}\n",
       "\\item 0.218089162139222\n",
       "\\item 0.987634242279455\n",
       "\\end{enumerate*}\n"
      ],
      "text/markdown": [
       "1. 0.218089162139222\n",
       "2. 0.987634242279455\n",
       "\n",
       "\n"
      ],
      "text/plain": [
       "[1] 0.2180892 0.9876342"
      ]
     },
     "metadata": {},
     "output_type": "display_data"
    }
   ],
   "source": [
    "# set.seed()指定随机种子\n",
    "set.seed(1024)\n",
    "runif(2)"
   ]
  },
  {
   "cell_type": "code",
   "execution_count": 10,
   "metadata": {},
   "outputs": [
    {
     "data": {
      "text/html": [
       "<ol class=list-inline>\n",
       "\t<li>500</li>\n",
       "\t<li>3</li>\n",
       "</ol>\n"
      ],
      "text/latex": [
       "\\begin{enumerate*}\n",
       "\\item 500\n",
       "\\item 3\n",
       "\\end{enumerate*}\n"
      ],
      "text/markdown": [
       "1. 500\n",
       "2. 3\n",
       "\n",
       "\n"
      ],
      "text/plain": [
       "[1] 500   3"
      ]
     },
     "metadata": {},
     "output_type": "display_data"
    },
    {
     "data": {
      "text/html": [
       "<table>\n",
       "<thead><tr><th scope=col>y</th><th scope=col>x1</th><th scope=col>x2</th></tr></thead>\n",
       "<tbody>\n",
       "\t<tr><td> 98.8</td><td> 41.3</td><td>3.43 </td></tr>\n",
       "\t<tr><td>244.5</td><td>205.2</td><td>3.80 </td></tr>\n",
       "\t<tr><td>375.7</td><td>186.7</td><td>2.51 </td></tr>\n",
       "\t<tr><td>-59.2</td><td> 11.2</td><td>4.71 </td></tr>\n",
       "\t<tr><td>313.0</td><td>111.0</td><td>3.45 </td></tr>\n",
       "\t<tr><td>288.8</td><td>185.1</td><td>2.72 </td></tr>\n",
       "\t<tr><td>134.8</td><td>165.0</td><td>4.39 </td></tr>\n",
       "\t<tr><td>171.7</td><td> 97.4</td><td>3.64 </td></tr>\n",
       "\t<tr><td>167.3</td><td>101.0</td><td>3.50 </td></tr>\n",
       "\t<tr><td>121.1</td><td> 94.5</td><td>4.10 </td></tr>\n",
       "</tbody>\n",
       "</table>\n"
      ],
      "text/latex": [
       "\\begin{tabular}{r|lll}\n",
       " y & x1 & x2\\\\\n",
       "\\hline\n",
       "\t  98.8 &  41.3 & 3.43 \\\\\n",
       "\t 244.5 & 205.2 & 3.80 \\\\\n",
       "\t 375.7 & 186.7 & 2.51 \\\\\n",
       "\t -59.2 &  11.2 & 4.71 \\\\\n",
       "\t 313.0 & 111.0 & 3.45 \\\\\n",
       "\t 288.8 & 185.1 & 2.72 \\\\\n",
       "\t 134.8 & 165.0 & 4.39 \\\\\n",
       "\t 171.7 &  97.4 & 3.64 \\\\\n",
       "\t 167.3 & 101.0 & 3.50 \\\\\n",
       "\t 121.1 &  94.5 & 4.10 \\\\\n",
       "\\end{tabular}\n"
      ],
      "text/markdown": [
       "\n",
       "y | x1 | x2 | \n",
       "|---|---|---|---|---|---|---|---|---|---|\n",
       "|  98.8 |  41.3 | 3.43  | \n",
       "| 244.5 | 205.2 | 3.80  | \n",
       "| 375.7 | 186.7 | 2.51  | \n",
       "| -59.2 |  11.2 | 4.71  | \n",
       "| 313.0 | 111.0 | 3.45  | \n",
       "| 288.8 | 185.1 | 2.72  | \n",
       "| 134.8 | 165.0 | 4.39  | \n",
       "| 171.7 |  97.4 | 3.64  | \n",
       "| 167.3 | 101.0 | 3.50  | \n",
       "| 121.1 |  94.5 | 4.10  | \n",
       "\n",
       "\n"
      ],
      "text/plain": [
       "   y     x1    x2  \n",
       "1   98.8  41.3 3.43\n",
       "2  244.5 205.2 3.80\n",
       "3  375.7 186.7 2.51\n",
       "4  -59.2  11.2 4.71\n",
       "5  313.0 111.0 3.45\n",
       "6  288.8 185.1 2.72\n",
       "7  134.8 165.0 4.39\n",
       "8  171.7  97.4 3.64\n",
       "9  167.3 101.0 3.50\n",
       "10 121.1  94.5 4.10"
      ]
     },
     "metadata": {},
     "output_type": "display_data"
    }
   ],
   "source": [
    "# 生成多元正态数据 \n",
    "library(MASS)\n",
    "options(digits=3)\n",
    "set.seed(1234)\n",
    "mean <- c(230.7,146.7,3.6)\n",
    "sigma <- matrix(c(15360,6721.2,-47.1,\n",
    "                  6721.2,4700.9,-16.5,\n",
    "                  -47.1,-16.5,0.3),nrow=3,ncol=3)\n",
    "mydata <- mvrnorm(500,mean,sigma)\n",
    "mydata <- as.data.frame(mydata)\n",
    "names(mydata) <- c(\"y\",\"x1\",\"x2\")\n",
    "dim(mydata)\n",
    "head(mydata,n=10)"
   ]
  },
  {
   "cell_type": "markdown",
   "metadata": {},
   "source": [
    "# 样本检验"
   ]
  },
  {
   "cell_type": "code",
   "execution_count": 11,
   "metadata": {},
   "outputs": [
    {
     "data": {
      "text/plain": [
       "   Min. 1st Qu.  Median    Mean 3rd Qu.    Max. \n",
       "   1.60    2.16    4.00    3.49    4.45    5.10 "
      ]
     },
     "metadata": {},
     "output_type": "display_data"
    }
   ],
   "source": [
    "# 检验一个数据集的分布\n",
    "eruptions <- faithful$eruptions\n",
    "summary(eruptions)"
   ]
  },
  {
   "cell_type": "code",
   "execution_count": 12,
   "metadata": {},
   "outputs": [
    {
     "data": {
      "image/png": "[encoded data removed]",
      "text/plain": [
       "Plot with title \"Normal Q-Q Plot\""
      ]
     },
     "metadata": {},
     "output_type": "display_data"
    }
   ],
   "source": [
    "par(mfrow=c(2,2))\n",
    "# 绘制密度图\n",
    "hist(eruptions, seq(1.6, 5.2, 0.2), prob=TRUE)\n",
    "lines(density(eruptions,bw=0.1))\n",
    "rug(eruptions)\n",
    "# 绘制经验累积分布函数\n",
    "plot(ecdf(eruptions), do.points=FALSE, verticals=TRUE)\n",
    "rug(eruptions)\n",
    "# 用正态分布拟合火山爆发三分钟后的情况\n",
    "long <- eruptions[eruptions > 3]\n",
    "plot(ecdf(long), do.points=FALSE, verticals=TRUE)\n",
    "lines(seq(3, 5.4, 0.01),pnorm(seq(3, 5.4, 0.01),\n",
    "                             mean=mean(long),sd=sd(long)),lty=3)\n",
    "# QQplot,正态分布\n",
    "par(pty=\"s\") # 设置一个方形的图形区域\n",
    "qqnorm(long); qqline(long)"
   ]
  },
  {
   "cell_type": "code",
   "execution_count": 13,
   "metadata": {},
   "outputs": [
    {
     "data": {
      "text/plain": [
       "\n",
       "\tShapiro-Wilk normality test\n",
       "\n",
       "data:  long\n",
       "W = 1, p-value = 0.01\n"
      ]
     },
     "metadata": {},
     "output_type": "display_data"
    },
    {
     "name": "stderr",
     "output_type": "stream",
     "text": [
      "Warning message in ks.test(long, \"pnorm\", mean = mean(long), sd = sqrt(var(long))):\n",
      "\"ties should not be present for the Kolmogorov-Smirnov test\""
     ]
    },
    {
     "data": {
      "text/plain": [
       "\n",
       "\tOne-sample Kolmogorov-Smirnov test\n",
       "\n",
       "data:  long\n",
       "D = 0.07, p-value = 0.4\n",
       "alternative hypothesis: two-sided\n"
      ]
     },
     "metadata": {},
     "output_type": "display_data"
    }
   ],
   "source": [
    "# R提供了正规的正态性检验方法\n",
    "# Shapiro-Wilk 检验\n",
    "shapiro.test(long)\n",
    "# Kolmogorov-Smirnov 检验\n",
    "ks.test(long, \"pnorm\", mean = mean(long), sd = sqrt(var(long)))"
   ]
  },
  {
   "cell_type": "code",
   "execution_count": 14,
   "metadata": {},
   "outputs": [
    {
     "data": {
      "text/plain": [
       "\n",
       "\tWelch Two Sample t-test\n",
       "\n",
       "data:  A and B\n",
       "t = 3, df = 10, p-value = 0.007\n",
       "alternative hypothesis: true difference in means is not equal to 0\n",
       "95 percent confidence interval:\n",
       " 0.0139 0.0702\n",
       "sample estimates:\n",
       "mean of x mean of y \n",
       "       80        80 \n"
      ]
     },
     "metadata": {},
     "output_type": "display_data"
    },
    {
     "data": {
      "text/plain": [
       "\n",
       "\tF test to compare two variances\n",
       "\n",
       "data:  A and B\n",
       "F = 0.6, num df = 10, denom df = 7, p-value = 0.4\n",
       "alternative hypothesis: true ratio of variances is not equal to 1\n",
       "95 percent confidence interval:\n",
       " 0.125 2.105\n",
       "sample estimates:\n",
       "ratio of variances \n",
       "             0.584 \n"
      ]
     },
     "metadata": {},
     "output_type": "display_data"
    },
    {
     "data": {
      "text/plain": [
       "\n",
       "\tTwo Sample t-test\n",
       "\n",
       "data:  A and B\n",
       "t = 3, df = 20, p-value = 0.003\n",
       "alternative hypothesis: true difference in means is not equal to 0\n",
       "95 percent confidence interval:\n",
       " 0.0167 0.0673\n",
       "sample estimates:\n",
       "mean of x mean of y \n",
       "       80        80 \n"
      ]
     },
     "metadata": {},
     "output_type": "display_data"
    },
    {
     "name": "stderr",
     "output_type": "stream",
     "text": [
      "Warning message in wilcox.test.default(A, B):\n",
      "\"cannot compute exact p-value with ties\""
     ]
    },
    {
     "data": {
      "text/plain": [
       "\n",
       "\tWilcoxon rank sum test with continuity correction\n",
       "\n",
       "data:  A and B\n",
       "W = 90, p-value = 0.007\n",
       "alternative hypothesis: true location shift is not equal to 0\n"
      ]
     },
     "metadata": {},
     "output_type": "display_data"
    },
    {
     "name": "stderr",
     "output_type": "stream",
     "text": [
      "Warning message in ks.test(A, B):\n",
      "\"cannot compute exact p-value with ties\""
     ]
    },
    {
     "data": {
      "text/plain": [
       "\n",
       "\tTwo-sample Kolmogorov-Smirnov test\n",
       "\n",
       "data:  A and B\n",
       "D = 0.6, p-value = 0.06\n",
       "alternative hypothesis: two-sided\n"
      ]
     },
     "metadata": {},
     "output_type": "display_data"
    }
   ],
   "source": [
    "# 单样本和双样本检验\n",
    "A <- c(79.98,80.04,80.02,80.04,80.03,80.03,80.04,79.97,\n",
    "       80.05,80.03,80.02,80.00,80.02)\n",
    "B <- c(80.02, 79.94, 79.98, 79.97, 79.97, 80.03, 79.95, 79.97)\n",
    "# 非配对 t-检验\n",
    "t.test(A,B)\n",
    "# F检验来确定方差的齐性情况\n",
    "var.test(A, B)\n",
    "# 传统的假设方差齐性的t-检验\n",
    "t.test(A, B, var.equal=TRUE)\n",
    "# 双样本的Wilcoxon (或者Mann-Whitney)检验\n",
    "wilcox.test(A, B)\n",
    "# Kolmogorov-Smirnov 检验是对两个经验累计概率分布间的最大垂直距离进行统计\n",
    "ks.test(A, B)"
   ]
  }
 ],
 "metadata": {
  "kernelspec": {
   "display_name": "R",
   "language": "R",
   "name": "ir"
  },
  "language_info": {
   "codemirror_mode": "r",
   "file_extension": ".r",
   "mimetype": "text/x-r-source",
   "name": "R",
   "pygments_lexer": "r",
   "version": "3.4.3"
  }
 },
 "nbformat": 4,
 "nbformat_minor": 2
}
