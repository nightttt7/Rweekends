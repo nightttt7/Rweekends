{
 "cells": [
  {
   "cell_type": "markdown",
   "metadata": {},
   "source": [
    "# 概率函数"
   ]
  },
  {
   "cell_type": "markdown",
   "metadata": {},
   "source": [
    "- **函数类别**\n",
    "- d density 密度函数\n",
    "- p distribution function 分布函数\n",
    "- q quantile function 分位数函数\n",
    "- r random 生成随机数"
   ]
  },
  {
   "cell_type": "markdown",
   "metadata": {},
   "source": [
    "- **分布类别**\n",
    "- Beta分布  beta\n",
    "- 二项分布  binom\n",
    "- 柯西分布  cauchy\n",
    "- 非中心卡方分布  chisq\n",
    "- 指数分布  exp\n",
    "- F分布  f\n",
    "- Gamma分布  gamma\n",
    "- 几何分布  geom\n",
    "- 超几何分布  hype\n",
    "- 对数正态分布  lnorm\n",
    "- Logistic分布  logis \n",
    "- 多项分布  multinom \n",
    "- 负二项分布  nbinom \n",
    "- 正态分布  norm \n",
    "- 泊松分布  pois \n",
    "- Wilcoxon符号秩分布  signrank \n",
    "- t分布  t \n",
    "- 均匀分布  unif \n",
    "- Weibull分布  weibull \n",
    "- Wilcoxon秩和分布  wilcox "
   ]
  },
  {
   "cell_type": "code",
   "execution_count": 6,
   "metadata": {},
   "outputs": [
    {
     "data": {
      "image/png": "[encoded data removed]",
      "text/plain": [
       "plot without title"
      ]
     },
     "metadata": {},
     "output_type": "display_data"
    }
   ],
   "source": [
    "# 将-3,3 分割成30份\n",
    "x <- pretty(c(-3,3), 30)\n",
    "# 密度+正态\n",
    "y <- dnorm(x)\n",
    "plot(x,y,type=\"l\")"
   ]
  },
  {
   "cell_type": "code",
   "execution_count": 7,
   "metadata": {},
   "outputs": [
    {
     "data": {
      "image/png": "[encoded data removed]",
      "text/plain": [
       "plot without title"
      ]
     },
     "metadata": {},
     "output_type": "display_data"
    }
   ],
   "source": [
    "# 分布+正态\n",
    "y <- pnorm(x)\n",
    "plot(x,y,type=\"l\")"
   ]
  },
  {
   "cell_type": "code",
   "execution_count": 8,
   "metadata": {},
   "outputs": [
    {
     "data": {
      "text/html": [
       "2.32634787404084"
      ],
      "text/latex": [
       "2.32634787404084"
      ],
      "text/markdown": [
       "2.32634787404084"
      ],
      "text/plain": [
       "[1] 2.326348"
      ]
     },
     "metadata": {},
     "output_type": "display_data"
    }
   ],
   "source": [
    "# 分位数+正态\n",
    "qnorm(.99,mean=0,sd=1)"
   ]
  },
  {
   "cell_type": "code",
   "execution_count": 9,
   "metadata": {},
   "outputs": [
    {
     "data": {
      "text/html": [
       "-0.0343685387429152"
      ],
      "text/latex": [
       "-0.0343685387429152"
      ],
      "text/markdown": [
       "-0.0343685387429152"
      ],
      "text/plain": [
       "[1] -0.03436854"
      ]
     },
     "metadata": {},
     "output_type": "display_data"
    }
   ],
   "source": [
    "# 随机数+正态\n",
    "x <- rnorm(50,mean=0,sd=1)\n",
    "mean(x)"
   ]
  },
  {
   "cell_type": "code",
   "execution_count": 10,
   "metadata": {},
   "outputs": [
    {
     "data": {
      "text/html": [
       "0.982032698358518"
      ],
      "text/latex": [
       "0.982032698358518"
      ],
      "text/markdown": [
       "0.982032698358518"
      ],
      "text/plain": [
       "[1] 0.9820327"
      ]
     },
     "metadata": {},
     "output_type": "display_data"
    }
   ],
   "source": [
    "sd(x)"
   ]
  },
  {
   "cell_type": "code",
   "execution_count": 11,
   "metadata": {},
   "outputs": [
    {
     "data": {
      "text/html": [
       "<ol class=list-inline>\n",
       "\t<li>0.330430933274329</li>\n",
       "\t<li>0.772163518005982</li>\n",
       "\t<li>0.594118922017515</li>\n",
       "\t<li>0.396955443546176</li>\n",
       "\t<li>0.545226346934214</li>\n",
       "</ol>\n"
      ],
      "text/latex": [
       "\\begin{enumerate*}\n",
       "\\item 0.330430933274329\n",
       "\\item 0.772163518005982\n",
       "\\item 0.594118922017515\n",
       "\\item 0.396955443546176\n",
       "\\item 0.545226346934214\n",
       "\\end{enumerate*}\n"
      ],
      "text/markdown": [
       "1. 0.330430933274329\n",
       "2. 0.772163518005982\n",
       "3. 0.594118922017515\n",
       "4. 0.396955443546176\n",
       "5. 0.545226346934214\n",
       "\n",
       "\n"
      ],
      "text/plain": [
       "[1] 0.3304309 0.7721635 0.5941189 0.3969554 0.5452263"
      ]
     },
     "metadata": {},
     "output_type": "display_data"
    }
   ],
   "source": [
    "# set.seed()显式随机种子\n",
    "runif(5)"
   ]
  },
  {
   "cell_type": "code",
   "execution_count": 12,
   "metadata": {},
   "outputs": [
    {
     "data": {
      "text/html": [
       "<ol class=list-inline>\n",
       "\t<li>0.405338732991368</li>\n",
       "\t<li>0.336839296855032</li>\n",
       "\t<li>0.279234709683806</li>\n",
       "\t<li>0.493240606039762</li>\n",
       "\t<li>0.511101245880127</li>\n",
       "</ol>\n"
      ],
      "text/latex": [
       "\\begin{enumerate*}\n",
       "\\item 0.405338732991368\n",
       "\\item 0.336839296855032\n",
       "\\item 0.279234709683806\n",
       "\\item 0.493240606039762\n",
       "\\item 0.511101245880127\n",
       "\\end{enumerate*}\n"
      ],
      "text/markdown": [
       "1. 0.405338732991368\n",
       "2. 0.336839296855032\n",
       "3. 0.279234709683806\n",
       "4. 0.493240606039762\n",
       "5. 0.511101245880127\n",
       "\n",
       "\n"
      ],
      "text/plain": [
       "[1] 0.4053387 0.3368393 0.2792347 0.4932406 0.5111012"
      ]
     },
     "metadata": {},
     "output_type": "display_data"
    }
   ],
   "source": [
    "runif(5)"
   ]
  },
  {
   "cell_type": "code",
   "execution_count": 13,
   "metadata": {},
   "outputs": [
    {
     "data": {
      "text/html": [
       "<ol class=list-inline>\n",
       "\t<li>0.218089162139222</li>\n",
       "\t<li>0.987634242279455</li>\n",
       "\t<li>0.348461888497695</li>\n",
       "\t<li>0.381046991795301</li>\n",
       "\t<li>0.0209859628230333</li>\n",
       "</ol>\n"
      ],
      "text/latex": [
       "\\begin{enumerate*}\n",
       "\\item 0.218089162139222\n",
       "\\item 0.987634242279455\n",
       "\\item 0.348461888497695\n",
       "\\item 0.381046991795301\n",
       "\\item 0.0209859628230333\n",
       "\\end{enumerate*}\n"
      ],
      "text/markdown": [
       "1. 0.218089162139222\n",
       "2. 0.987634242279455\n",
       "3. 0.348461888497695\n",
       "4. 0.381046991795301\n",
       "5. 0.0209859628230333\n",
       "\n",
       "\n"
      ],
      "text/plain": [
       "[1] 0.21808916 0.98763424 0.34846189 0.38104699 0.02098596"
      ]
     },
     "metadata": {},
     "output_type": "display_data"
    }
   ],
   "source": [
    "set.seed(1024)\n",
    "runif(5)"
   ]
  },
  {
   "cell_type": "code",
   "execution_count": 15,
   "metadata": {},
   "outputs": [
    {
     "data": {
      "text/html": [
       "<ol class=list-inline>\n",
       "\t<li>0.218089162139222</li>\n",
       "\t<li>0.987634242279455</li>\n",
       "\t<li>0.348461888497695</li>\n",
       "\t<li>0.381046991795301</li>\n",
       "\t<li>0.0209859628230333</li>\n",
       "</ol>\n"
      ],
      "text/latex": [
       "\\begin{enumerate*}\n",
       "\\item 0.218089162139222\n",
       "\\item 0.987634242279455\n",
       "\\item 0.348461888497695\n",
       "\\item 0.381046991795301\n",
       "\\item 0.0209859628230333\n",
       "\\end{enumerate*}\n"
      ],
      "text/markdown": [
       "1. 0.218089162139222\n",
       "2. 0.987634242279455\n",
       "3. 0.348461888497695\n",
       "4. 0.381046991795301\n",
       "5. 0.0209859628230333\n",
       "\n",
       "\n"
      ],
      "text/plain": [
       "[1] 0.218 0.988 0.348 0.381 0.021"
      ]
     },
     "metadata": {},
     "output_type": "display_data"
    }
   ],
   "source": [
    "set.seed(1024)\n",
    "runif(5)"
   ]
  },
  {
   "cell_type": "code",
   "execution_count": 17,
   "metadata": {},
   "outputs": [
    {
     "data": {
      "text/html": [
       "<ol class=list-inline>\n",
       "\t<li>500</li>\n",
       "\t<li>3</li>\n",
       "</ol>\n"
      ],
      "text/latex": [
       "\\begin{enumerate*}\n",
       "\\item 500\n",
       "\\item 3\n",
       "\\end{enumerate*}\n"
      ],
      "text/markdown": [
       "1. 500\n",
       "2. 3\n",
       "\n",
       "\n"
      ],
      "text/plain": [
       "[1] 500   3"
      ]
     },
     "metadata": {},
     "output_type": "display_data"
    }
   ],
   "source": [
    "# 生成多元正态数据 \n",
    "library(MASS)\n",
    "options(digits=3)\n",
    "set.seed(1234)\n",
    "mean <- c(230.7,146.7,3.6)\n",
    "sigma <- matrix(c(15360,6721.2,-47.1,\n",
    "                  6721.2,4700.9,-16.5,\n",
    "                  -47.1,-16.5,0.3),nrow=3,ncol=3)\n",
    "mydata <- mvrnorm(500,mean,sigma)\n",
    "mydata <- as.data.frame(mydata)\n",
    "names(mydata) <- c(\"y\",\"x1\",\"x2\")\n",
    "dim(mydata)"
   ]
  },
  {
   "cell_type": "code",
   "execution_count": 18,
   "metadata": {},
   "outputs": [
    {
     "data": {
      "text/html": [
       "<table>\n",
       "<thead><tr><th scope=col>y</th><th scope=col>x1</th><th scope=col>x2</th></tr></thead>\n",
       "<tbody>\n",
       "\t<tr><td> 98.8</td><td> 41.3</td><td>3.43 </td></tr>\n",
       "\t<tr><td>244.5</td><td>205.2</td><td>3.80 </td></tr>\n",
       "\t<tr><td>375.7</td><td>186.7</td><td>2.51 </td></tr>\n",
       "\t<tr><td>-59.2</td><td> 11.2</td><td>4.71 </td></tr>\n",
       "\t<tr><td>313.0</td><td>111.0</td><td>3.45 </td></tr>\n",
       "\t<tr><td>288.8</td><td>185.1</td><td>2.72 </td></tr>\n",
       "\t<tr><td>134.8</td><td>165.0</td><td>4.39 </td></tr>\n",
       "\t<tr><td>171.7</td><td> 97.4</td><td>3.64 </td></tr>\n",
       "\t<tr><td>167.3</td><td>101.0</td><td>3.50 </td></tr>\n",
       "\t<tr><td>121.1</td><td> 94.5</td><td>4.10 </td></tr>\n",
       "</tbody>\n",
       "</table>\n"
      ],
      "text/latex": [
       "\\begin{tabular}{r|lll}\n",
       " y & x1 & x2\\\\\n",
       "\\hline\n",
       "\t  98.8 &  41.3 & 3.43 \\\\\n",
       "\t 244.5 & 205.2 & 3.80 \\\\\n",
       "\t 375.7 & 186.7 & 2.51 \\\\\n",
       "\t -59.2 &  11.2 & 4.71 \\\\\n",
       "\t 313.0 & 111.0 & 3.45 \\\\\n",
       "\t 288.8 & 185.1 & 2.72 \\\\\n",
       "\t 134.8 & 165.0 & 4.39 \\\\\n",
       "\t 171.7 &  97.4 & 3.64 \\\\\n",
       "\t 167.3 & 101.0 & 3.50 \\\\\n",
       "\t 121.1 &  94.5 & 4.10 \\\\\n",
       "\\end{tabular}\n"
      ],
      "text/markdown": [
       "\n",
       "y | x1 | x2 | \n",
       "|---|---|---|---|---|---|---|---|---|---|\n",
       "|  98.8 |  41.3 | 3.43  | \n",
       "| 244.5 | 205.2 | 3.80  | \n",
       "| 375.7 | 186.7 | 2.51  | \n",
       "| -59.2 |  11.2 | 4.71  | \n",
       "| 313.0 | 111.0 | 3.45  | \n",
       "| 288.8 | 185.1 | 2.72  | \n",
       "| 134.8 | 165.0 | 4.39  | \n",
       "| 171.7 |  97.4 | 3.64  | \n",
       "| 167.3 | 101.0 | 3.50  | \n",
       "| 121.1 |  94.5 | 4.10  | \n",
       "\n",
       "\n"
      ],
      "text/plain": [
       "   y     x1    x2  \n",
       "1   98.8  41.3 3.43\n",
       "2  244.5 205.2 3.80\n",
       "3  375.7 186.7 2.51\n",
       "4  -59.2  11.2 4.71\n",
       "5  313.0 111.0 3.45\n",
       "6  288.8 185.1 2.72\n",
       "7  134.8 165.0 4.39\n",
       "8  171.7  97.4 3.64\n",
       "9  167.3 101.0 3.50\n",
       "10 121.1  94.5 4.10"
      ]
     },
     "metadata": {},
     "output_type": "display_data"
    }
   ],
   "source": [
    "head(mydata,n=10)"
   ]
  },
  {
   "cell_type": "markdown",
   "metadata": {},
   "source": [
    "# 统计1"
   ]
  },
  {
   "cell_type": "code",
   "execution_count": 19,
   "metadata": {},
   "outputs": [
    {
     "data": {
      "text/plain": [
       "   Min. 1st Qu.  Median    Mean 3rd Qu.    Max. \n",
       "   1.60    2.16    4.00    3.49    4.45    5.10 "
      ]
     },
     "metadata": {},
     "output_type": "display_data"
    }
   ],
   "source": [
    "# 检验一个数据集的分布\n",
    "attach(faithful)\n",
    "summary(eruptions)"
   ]
  },
  {
   "cell_type": "code",
   "execution_count": 20,
   "metadata": {},
   "outputs": [
    {
     "data": {
      "image/png": "[encoded data removed]",
      "text/plain": [
       "Plot with title \"Histogram of eruptions\""
      ]
     },
     "metadata": {},
     "output_type": "display_data"
    }
   ],
   "source": [
    "# 做密度图\n",
    "hist(eruptions, seq(1.6, 5.2, 0.2), prob=TRUE)\n",
    "lines(density(eruptions,bw=0.1))\n",
    "rug(eruptions)"
   ]
  },
  {
   "cell_type": "code",
   "execution_count": 21,
   "metadata": {},
   "outputs": [
    {
     "data": {
      "image/png": "[encoded data removed]",
      "text/plain": [
       "Plot with title \"ecdf(eruptions)\""
      ]
     },
     "metadata": {},
     "output_type": "display_data"
    }
   ],
   "source": [
    "# 绘制经验累积分布函数\n",
    "plot(ecdf(eruptions), do.points=FALSE, verticals=TRUE)\n",
    "rug(eruptions)"
   ]
  },
  {
   "cell_type": "code",
   "execution_count": 22,
   "metadata": {},
   "outputs": [
    {
     "data": {
      "image/png": "[encoded data removed]",
      "text/plain": [
       "Plot with title \"ecdf(long)\""
      ]
     },
     "metadata": {},
     "output_type": "display_data"
    }
   ],
   "source": [
    "# 用正态分布拟合火山爆发三分钟后的情况\n",
    "long <- eruptions[eruptions > 3]\n",
    "plot(ecdf(long), do.points=FALSE, verticals=TRUE)\n",
    "lines(seq(3, 5.4, 0.01),pnorm(seq(3, 5.4, 0.01),\n",
    "                             mean=mean(long),sd=sd(long)),lty=3)"
   ]
  },
  {
   "cell_type": "code",
   "execution_count": 23,
   "metadata": {},
   "outputs": [
    {
     "data": {
      "image/png": "[encoded data removed]",
      "text/plain": [
       "Plot with title \"Normal Q-Q Plot\""
      ]
     },
     "metadata": {},
     "output_type": "display_data"
    }
   ],
   "source": [
    "# QQplot,正态分布\n",
    "par(pty=\"s\") # 设置一个方形的图形区域\n",
    "qqnorm(long); qqline(long)"
   ]
  },
  {
   "cell_type": "code",
   "execution_count": 24,
   "metadata": {},
   "outputs": [
    {
     "data": {
      "text/plain": [
       "\n",
       "\tShapiro-Wilk normality test\n",
       "\n",
       "data:  long\n",
       "W = 1, p-value = 0.01\n"
      ]
     },
     "metadata": {},
     "output_type": "display_data"
    }
   ],
   "source": [
    "# R提供了正规的正态性检验方法。R提供了 Shapiro-Wilk 检验\n",
    "# 和 Kolmogorov-Smirnov 检验\n",
    "shapiro.test(long)"
   ]
  },
  {
   "cell_type": "code",
   "execution_count": 25,
   "metadata": {},
   "outputs": [
    {
     "name": "stderr",
     "output_type": "stream",
     "text": [
      "Warning message in ks.test(long, \"pnorm\", mean = mean(long), sd = sqrt(var(long))):\n",
      "\"ties should not be present for the Kolmogorov-Smirnov test\""
     ]
    },
    {
     "data": {
      "text/plain": [
       "\n",
       "\tOne-sample Kolmogorov-Smirnov test\n",
       "\n",
       "data:  long\n",
       "D = 0.07, p-value = 0.4\n",
       "alternative hypothesis: two-sided\n"
      ]
     },
     "metadata": {},
     "output_type": "display_data"
    }
   ],
   "source": [
    "ks.test(long, \"pnorm\", mean = mean(long), sd = sqrt(var(long)))"
   ]
  },
  {
   "cell_type": "code",
   "execution_count": 27,
   "metadata": {},
   "outputs": [
    {
     "data": {
      "image/png": "[encoded data removed]",
      "text/plain": [
       "plot without title"
      ]
     },
     "metadata": {},
     "output_type": "display_data"
    }
   ],
   "source": [
    "# 单样本和双样本检验 p59\n",
    "\n",
    "A <- c(79.98,80.04,80.02,80.04,80.03,80.03,80.04,79.97,\n",
    "       80.05,80.03,80.02,80.00,80.02)\n",
    "B <- c(80.02, 79.94, 79.98, 79.97, 79.97, 80.03, 79.95, 79.97)\n",
    "boxplot(A, B)"
   ]
  },
  {
   "cell_type": "code",
   "execution_count": 28,
   "metadata": {},
   "outputs": [
    {
     "data": {
      "text/plain": [
       "\n",
       "\tWelch Two Sample t-test\n",
       "\n",
       "data:  A and B\n",
       "t = 3, df = 10, p-value = 0.007\n",
       "alternative hypothesis: true difference in means is not equal to 0\n",
       "95 percent confidence interval:\n",
       " 0.0139 0.0702\n",
       "sample estimates:\n",
       "mean of x mean of y \n",
       "       80        80 \n"
      ]
     },
     "metadata": {},
     "output_type": "display_data"
    }
   ],
   "source": [
    "# 非配对 t-检验\n",
    "t.test(A,B)"
   ]
  },
  {
   "cell_type": "code",
   "execution_count": 30,
   "metadata": {},
   "outputs": [
    {
     "data": {
      "text/plain": [
       "\n",
       "\tF test to compare two variances\n",
       "\n",
       "data:  A and B\n",
       "F = 0.6, num df = 10, denom df = 7, p-value = 0.4\n",
       "alternative hypothesis: true ratio of variances is not equal to 1\n",
       "95 percent confidence interval:\n",
       " 0.125 2.105\n",
       "sample estimates:\n",
       "ratio of variances \n",
       "             0.584 \n"
      ]
     },
     "metadata": {},
     "output_type": "display_data"
    }
   ],
   "source": [
    "# F检验来确定方差的齐性情况\n",
    "var.test(A, B)"
   ]
  },
  {
   "cell_type": "code",
   "execution_count": 31,
   "metadata": {},
   "outputs": [
    {
     "data": {
      "text/plain": [
       "\n",
       "\tTwo Sample t-test\n",
       "\n",
       "data:  A and B\n",
       "t = 3, df = 20, p-value = 0.003\n",
       "alternative hypothesis: true difference in means is not equal to 0\n",
       "95 percent confidence interval:\n",
       " 0.0167 0.0673\n",
       "sample estimates:\n",
       "mean of x mean of y \n",
       "       80        80 \n"
      ]
     },
     "metadata": {},
     "output_type": "display_data"
    }
   ],
   "source": [
    "# 传统的假设方差齐性的t-检验\n",
    "t.test(A, B, var.equal=TRUE)"
   ]
  },
  {
   "cell_type": "code",
   "execution_count": 32,
   "metadata": {},
   "outputs": [
    {
     "name": "stderr",
     "output_type": "stream",
     "text": [
      "Warning message in wilcox.test.default(A, B):\n",
      "\"cannot compute exact p-value with ties\""
     ]
    },
    {
     "data": {
      "text/plain": [
       "\n",
       "\tWilcoxon rank sum test with continuity correction\n",
       "\n",
       "data:  A and B\n",
       "W = 90, p-value = 0.007\n",
       "alternative hypothesis: true location shift is not equal to 0\n"
      ]
     },
     "metadata": {},
     "output_type": "display_data"
    }
   ],
   "source": [
    "# 双样本的Wilcoxon (或者Mann-Whitney)检验\n",
    "wilcox.test(A, B)"
   ]
  },
  {
   "cell_type": "code",
   "execution_count": 38,
   "metadata": {},
   "outputs": [
    {
     "data": {
      "image/png": "[encoded data removed]",
      "text/plain": [
       "Plot with title \"ecdf(A)\""
      ]
     },
     "metadata": {},
     "output_type": "display_data"
    }
   ],
   "source": [
    "plot(ecdf(A), do.points=FALSE, verticals=TRUE, xlim=range(A, B))\n",
    "plot(ecdf(B), do.points=FALSE, verticals=TRUE, add=TRUE)"
   ]
  },
  {
   "cell_type": "code",
   "execution_count": 39,
   "metadata": {},
   "outputs": [
    {
     "name": "stderr",
     "output_type": "stream",
     "text": [
      "Warning message in ks.test(A, B):\n",
      "\"cannot compute exact p-value with ties\""
     ]
    },
    {
     "data": {
      "text/plain": [
       "\n",
       "\tTwo-sample Kolmogorov-Smirnov test\n",
       "\n",
       "data:  A and B\n",
       "D = 0.6, p-value = 0.06\n",
       "alternative hypothesis: two-sided\n"
      ]
     },
     "metadata": {},
     "output_type": "display_data"
    }
   ],
   "source": [
    "# Kolmogorov-Smirnov 检验是对两个经验累计概率分布间的最大垂直距离进行统计\n",
    "ks.test(A, B)"
   ]
  },
  {
   "cell_type": "markdown",
   "metadata": {},
   "source": [
    "# 统计2"
   ]
  },
  {
   "cell_type": "code",
   "execution_count": null,
   "metadata": {},
   "outputs": [],
   "source": [
    "# 操作符 ~ 用来定义 R 的模型公式（model formula）# 如何定义 略\n",
    "# 默认模型公式 R导论p78"
   ]
  },
  {
   "cell_type": "markdown",
   "metadata": {},
   "source": [
    "**方差分析和模型比较**"
   ]
  },
  {
   "cell_type": "code",
   "execution_count": 48,
   "metadata": {},
   "outputs": [],
   "source": [
    "# 模型拟合函数aov(formula, data=data.frame) \n",
    "## 族\n",
    "# 高斯,二项式,泊松,逆高斯,伽马\n",
    "## 广义线性回归\n",
    "#广义线性回归的函数是#glm(formula, family=family.generator, data=data.frame)"
   ]
  },
  {
   "cell_type": "markdown",
   "metadata": {},
   "source": [
    "**非线性最小二乘法和最大似然法模型**"
   ]
  },
  {
   "cell_type": "code",
   "execution_count": 51,
   "metadata": {},
   "outputs": [
    {
     "data": {
      "image/png": "[encoded data removed]",
      "text/plain": [
       "plot without title"
      ]
     },
     "metadata": {},
     "output_type": "display_data"
    }
   ],
   "source": [
    "# R的非线性优化程序是optim()，nlm() 和nlminb()\n",
    "# 非线性最小二乘法\n",
    "# 数据与被拟合的模型\n",
    "x <- c(0.02, 0.02, 0.06, 0.06, 0.11, 0.11, 0.22,       \n",
    "       0.22, 0.56, 0.56,1.10, 1.10)\n",
    "y <- c(76, 47, 97, 107, 123, 139, 159, 152, 191,       \n",
    "       201, 207, 200)\n",
    "fn <- function(p) sum((y-(p[1] * x)/(p[2] + x))^2)\n",
    "# 画出数据\n",
    "plot(x,y)"
   ]
  },
  {
   "cell_type": "code",
   "execution_count": 62,
   "metadata": {},
   "outputs": [],
   "source": [
    "# 估计有些参数值并对比\n",
    "xfit <- seq(.02, 1.1, .05)"
   ]
  },
  {
   "cell_type": "code",
   "execution_count": 63,
   "metadata": {},
   "outputs": [],
   "source": [
    "yfit <- 200 * xfit/(0.1 + xfit)"
   ]
  },
  {
   "cell_type": "code",
   "execution_count": 64,
   "metadata": {},
   "outputs": [
    {
     "data": {
      "image/png": "[encoded data removed]",
      "text/plain": [
       "plot without title"
      ]
     },
     "metadata": {},
     "output_type": "display_data"
    }
   ],
   "source": [
    "plot(x, y)\n",
    "lines(spline(xfit,yfit))"
   ]
  },
  {
   "cell_type": "code",
   "execution_count": 56,
   "metadata": {},
   "outputs": [
    {
     "name": "stdout",
     "output_type": "stream",
     "text": [
      "[1] 1195\n"
     ]
    }
   ],
   "source": [
    "# 做拟合\n",
    "out <- nlm(fn, p = c(200, 0.1), hessian = TRUE)\n",
    "# 误差的平方和 SSE\n",
    "print(out$minimum)"
   ]
  },
  {
   "cell_type": "code",
   "execution_count": 57,
   "metadata": {},
   "outputs": [
    {
     "name": "stdout",
     "output_type": "stream",
     "text": [
      "[1] 212.6838   0.0641\n"
     ]
    }
   ],
   "source": [
    "# 参数的最小二乘估计\n",
    "print(out$estimate)"
   ]
  },
  {
   "cell_type": "code",
   "execution_count": 58,
   "metadata": {},
   "outputs": [
    {
     "data": {
      "text/html": [
       "<ol class=list-inline>\n",
       "\t<li>7.17346519868821</li>\n",
       "\t<li>0.00874481532311458</li>\n",
       "</ol>\n"
      ],
      "text/latex": [
       "\\begin{enumerate*}\n",
       "\\item 7.17346519868821\n",
       "\\item 0.00874481532311458\n",
       "\\end{enumerate*}\n"
      ],
      "text/markdown": [
       "1. 7.17346519868821\n",
       "2. 0.00874481532311458\n",
       "\n",
       "\n"
      ],
      "text/plain": [
       "[1] 7.17347 0.00874"
      ]
     },
     "metadata": {},
     "output_type": "display_data"
    }
   ],
   "source": [
    "# 标准误 SE\n",
    "sqrt(diag(2*out$minimum/(length(y) - 2) * solve(out$hessian)))"
   ]
  },
  {
   "cell_type": "code",
   "execution_count": 59,
   "metadata": {},
   "outputs": [
    {
     "data": {
      "image/png": "[encoded data removed]",
      "text/plain": [
       "plot without title"
      ]
     },
     "metadata": {},
     "output_type": "display_data"
    }
   ],
   "source": [
    "# 画出估计参数的拟合情况\n",
    "plot(x, y)\n",
    "xfit <- seq(.02, 1.1, .05)\n",
    "yfit <- 212.68384222 * xfit/(0.06412146 + xfit)\n",
    "lines(spline(xfit, yfit))"
   ]
  },
  {
   "cell_type": "markdown",
   "metadata": {},
   "source": [
    "**最大似然法**"
   ]
  },
  {
   "cell_type": "code",
   "execution_count": null,
   "metadata": {},
   "outputs": [],
   "source": []
  }
 ],
 "metadata": {
  "kernelspec": {
   "display_name": "R",
   "language": "R",
   "name": "ir"
  },
  "language_info": {
   "codemirror_mode": "r",
   "file_extension": ".r",
   "mimetype": "text/x-r-source",
   "name": "R",
   "pygments_lexer": "r",
   "version": "3.4.3"
  }
 },
 "nbformat": 4,
 "nbformat_minor": 2
}
