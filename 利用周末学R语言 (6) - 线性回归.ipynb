{
 "cells": [
  {
   "cell_type": "markdown",
   "metadata": {},
   "source": [
    "# 统计2"
   ]
  },
  {
   "cell_type": "code",
   "execution_count": null,
   "metadata": {},
   "outputs": [],
   "source": [
    "# 操作符 ~ 用来定义 R 的模型公式（model formula）# 如何定义 略\n",
    "# 默认模型公式 R导论p78"
   ]
  },
  {
   "cell_type": "markdown",
   "metadata": {},
   "source": [
    "**方差分析和模型比较**"
   ]
  },
  {
   "cell_type": "code",
   "execution_count": null,
   "metadata": {},
   "outputs": [],
   "source": [
    "# 模型拟合函数aov(formula, data=data.frame) \n",
    "## 族\n",
    "# 高斯,二项式,泊松,逆高斯,伽马\n",
    "## 广义线性回归\n",
    "#广义线性回归的函数是#glm(formula, family=family.generator, data=data.frame)"
   ]
  },
  {
   "cell_type": "markdown",
   "metadata": {},
   "source": [
    "**非线性最小二乘法和最大似然法模型**"
   ]
  },
  {
   "cell_type": "code",
   "execution_count": null,
   "metadata": {},
   "outputs": [],
   "source": [
    "# R的非线性优化程序是optim()，nlm() 和nlminb()\n",
    "# 非线性最小二乘法\n",
    "# 数据与被拟合的模型\n",
    "x <- c(0.02, 0.02, 0.06, 0.06, 0.11, 0.11, 0.22,       \n",
    "       0.22, 0.56, 0.56,1.10, 1.10)\n",
    "y <- c(76, 47, 97, 107, 123, 139, 159, 152, 191,       \n",
    "       201, 207, 200)\n",
    "fn <- function(p) sum((y-(p[1] * x)/(p[2] + x))^2)\n",
    "# 画出数据\n",
    "plot(x,y)"
   ]
  },
  {
   "cell_type": "code",
   "execution_count": null,
   "metadata": {},
   "outputs": [],
   "source": [
    "# 估计有些参数值并对比\n",
    "xfit <- seq(.02, 1.1, .05)"
   ]
  },
  {
   "cell_type": "code",
   "execution_count": null,
   "metadata": {},
   "outputs": [],
   "source": [
    "yfit <- 200 * xfit/(0.1 + xfit)"
   ]
  },
  {
   "cell_type": "code",
   "execution_count": null,
   "metadata": {},
   "outputs": [],
   "source": [
    "plot(x, y)\n",
    "lines(spline(xfit,yfit))"
   ]
  },
  {
   "cell_type": "code",
   "execution_count": null,
   "metadata": {},
   "outputs": [],
   "source": [
    "# 做拟合\n",
    "out <- nlm(fn, p = c(200, 0.1), hessian = TRUE)\n",
    "# 误差的平方和 SSE\n",
    "print(out$minimum)"
   ]
  },
  {
   "cell_type": "code",
   "execution_count": null,
   "metadata": {},
   "outputs": [],
   "source": [
    "# 参数的最小二乘估计\n",
    "print(out$estimate)"
   ]
  },
  {
   "cell_type": "code",
   "execution_count": null,
   "metadata": {},
   "outputs": [],
   "source": [
    "# 标准误 SE\n",
    "sqrt(diag(2*out$minimum/(length(y) - 2) * solve(out$hessian)))"
   ]
  },
  {
   "cell_type": "code",
   "execution_count": null,
   "metadata": {},
   "outputs": [],
   "source": [
    "# 画出估计参数的拟合情况\n",
    "plot(x, y)\n",
    "xfit <- seq(.02, 1.1, .05)\n",
    "yfit <- 212.68384222 * xfit/(0.06412146 + xfit)\n",
    "lines(spline(xfit, yfit))"
   ]
  },
  {
   "cell_type": "markdown",
   "metadata": {},
   "source": [
    "**最大似然法**"
   ]
  }
 ],
 "metadata": {
  "kernelspec": {
   "display_name": "R",
   "language": "R",
   "name": "ir"
  },
  "language_info": {
   "codemirror_mode": "r",
   "file_extension": ".r",
   "mimetype": "text/x-r-source",
   "name": "R",
   "pygments_lexer": "r",
   "version": "3.4.3"
  }
 },
 "nbformat": 4,
 "nbformat_minor": 2
}
