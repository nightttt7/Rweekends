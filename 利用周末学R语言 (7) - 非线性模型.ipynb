{
 "cells": [
  {
   "cell_type": "markdown",
   "metadata": {},
   "source": [
    "# 非线性最小二乘法"
   ]
  },
  {
   "cell_type": "code",
   "execution_count": 1,
   "metadata": {},
   "outputs": [
    {
     "name": "stdout",
     "output_type": "stream",
     "text": [
      "[1] 1195.449\n",
      "[1] 212.68384222   0.06412146\n"
     ]
    },
    {
     "data": {
      "text/html": [
       "<ol class=list-inline>\n",
       "\t<li>7.17346519868821</li>\n",
       "\t<li>0.00874481532311458</li>\n",
       "</ol>\n"
      ],
      "text/latex": [
       "\\begin{enumerate*}\n",
       "\\item 7.17346519868821\n",
       "\\item 0.00874481532311458\n",
       "\\end{enumerate*}\n"
      ],
      "text/markdown": [
       "1. 7.17346519868821\n",
       "2. 0.00874481532311458\n",
       "\n",
       "\n"
      ],
      "text/plain": [
       "[1] 7.173465199 0.008744815"
      ]
     },
     "metadata": {},
     "output_type": "display_data"
    },
    {
     "data": {
      "image/png": "[encoded data removed]",
      "text/plain": [
       "plot without title"
      ]
     },
     "metadata": {},
     "output_type": "display_data"
    }
   ],
   "source": [
    "par(mfrow=c(2,2))\n",
    "# 数据与被拟合的模型\n",
    "x <- c(0.02, 0.02, 0.06, 0.06, 0.11, 0.11, 0.22,       \n",
    "       0.22, 0.56, 0.56,1.10, 1.10)\n",
    "y <- c(76, 47, 97, 107, 123, 139, 159, 152, 191,       \n",
    "       201, 207, 200)\n",
    "fn <- function(p) sum((y-(p[1] * x)/(p[2] + x))^2)\n",
    "# 画出数据\n",
    "plot(x,y)\n",
    "# 估计参数值并对比\n",
    "xfit <- seq(.02, 1.1, .05)\n",
    "yfit <- 200 * xfit/(0.1 + xfit)\n",
    "plot(x, y)\n",
    "lines(spline(xfit,yfit))\n",
    "# 做拟合\n",
    "out <- nlm(fn, p = c(200, 0.1), hessian = TRUE)\n",
    "# 误差的平方和 SSE\n",
    "print(out$minimum)\n",
    "# 参数的最小二乘估计\n",
    "print(out$estimate)\n",
    "# 标准误 SE\n",
    "sqrt(diag(2*out$minimum/(length(y) - 2) * solve(out$hessian)))\n",
    "# 画出估计参数的拟合情况\n",
    "plot(x, y)\n",
    "xfit <- seq(.02, 1.1, .05)\n",
    "yfit <- 212.68384222 * xfit/(0.06412146 + xfit)\n",
    "lines(spline(xfit, yfit))"
   ]
  },
  {
   "cell_type": "markdown",
   "metadata": {},
   "source": [
    "# 非线性最大似然法"
   ]
  },
  {
   "cell_type": "code",
   "execution_count": 2,
   "metadata": {},
   "outputs": [
    {
     "name": "stderr",
     "output_type": "stream",
     "text": [
      "Warning message in nlm(fn, p = c(-50, 20), hessian = TRUE):\n",
      "\"NA/Inf被换成最大的正值\""
     ]
    },
    {
     "data": {
      "text/html": [
       "<ol class=list-inline>\n",
       "\t<li>5.55456667232532</li>\n",
       "\t<li>3.12336530094839</li>\n",
       "</ol>\n"
      ],
      "text/latex": [
       "\\begin{enumerate*}\n",
       "\\item 5.55456667232532\n",
       "\\item 3.12336530094839\n",
       "\\end{enumerate*}\n"
      ],
      "text/markdown": [
       "1. 5.55456667232532\n",
       "2. 3.12336530094839\n",
       "\n",
       "\n"
      ],
      "text/plain": [
       "[1] 5.554567 3.123365"
      ]
     },
     "metadata": {},
     "output_type": "display_data"
    }
   ],
   "source": [
    "x <- c(1.6907, 1.7242, 1.7552, 1.7842, 1.8113,\n",
    "       1.8369, 1.8610, 1.8839)\n",
    "y <- c(6, 13, 18, 28, 52, 53, 61, 60)\n",
    "n <- c(59, 60, 62, 56, 63, 59, 62, 60)\n",
    "fn <- function(p)    \n",
    "    sum( - (y*(p[1]+p[2]*x) -\n",
    "            n*log(1+exp(p[1]+p[2]*x)) +\n",
    "            log(choose(n, y)) ))\n",
    "# 选择一个适当的初始值，开始拟合\n",
    "out <- nlm(fn, p = c(-50,20), hessian = TRUE)\n",
    "sqrt(diag(solve(out$hessian)))"
   ]
  },
  {
   "cell_type": "markdown",
   "metadata": {},
   "source": [
    "# 一些非标准模型"
   ]
  },
  {
   "cell_type": "markdown",
   "metadata": {},
   "source": [
    "- 混合效应模型（mixed-effects models）的线性和非线性回归\n",
    "    - nlme::lme()\n",
    "    - nlme::nlme()\n",
    "- 局部近似回归(Local approximating regressions)\n",
    "    - loess()\n",
    "- 稳健回归(Robust regression)\n",
    "    - MASS::lqs\n",
    "- 累加模型(Additive models)\n",
    "    - acepack::avas()和ace()\n",
    "    - mda::bruto()和mars()\n",
    "- 广义累加模型\n",
    "    - gam和mgcv\n",
    "- 树型模型(Tree-based models)\n",
    "    - 树型模型递归地在决定性变量的判断点上将数据的分叉分开,会把数据最终分成几个不同组,使得组内尽可能相似而组间尽可能差异\n",
    "    - rpart::tree()\n",
    "    - tree::tree()\n",
    "    - plot()和text()可以很好的用于树型模型拟合结果的图形显示"
   ]
  },
  {
   "cell_type": "code",
   "execution_count": null,
   "metadata": {},
   "outputs": [],
   "source": []
  }
 ],
 "metadata": {
  "kernelspec": {
   "display_name": "R",
   "language": "R",
   "name": "ir"
  },
  "language_info": {
   "codemirror_mode": "r",
   "file_extension": ".r",
   "mimetype": "text/x-r-source",
   "name": "R",
   "pygments_lexer": "r",
   "version": "3.4.3"
  }
 },
 "nbformat": 4,
 "nbformat_minor": 2
}
