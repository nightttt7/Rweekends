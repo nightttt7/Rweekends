{
 "cells": [
  {
   "cell_type": "markdown",
   "metadata": {},
   "source": [
    "# 功效分析"
   ]
  },
  {
   "cell_type": "code",
   "execution_count": 1,
   "metadata": {},
   "outputs": [],
   "source": [
    "# 功效分析可以帮助在给定置信度的情况下，\n",
    "# 判断检测到给定效应值时所需的样本量\n",
    "# 它也可以帮助你在给定置信度水平情况下，\n",
    "# 计算在某样本量内能检测到给定效应值的概率\n",
    "# pwr模块可以实现功效分析\n",
    "# 对于每个函数，用户可以设定四个量\n",
    "# 样本大小、显著性水平、功效和效应值\n",
    "# 中的三个量，第四个量将由软件计算出来"
   ]
  },
  {
   "cell_type": "markdown",
   "metadata": {},
   "source": [
    "- 未看:p248-258\n",
    "- t检验\n",
    "- 方差分析\n",
    "- 相关性\n",
    "- 线性模型\n",
    "- 比例检验\n",
    "- 卡方检验"
   ]
  },
  {
   "cell_type": "markdown",
   "metadata": {},
   "source": [
    "# 重抽样和自助法"
   ]
  },
  {
   "cell_type": "markdown",
   "metadata": {},
   "source": [
    "- 未看:P288-302 "
   ]
  },
  {
   "cell_type": "markdown",
   "metadata": {},
   "source": [
    "# 主成分和因子分析"
   ]
  },
  {
   "cell_type": "markdown",
   "metadata": {},
   "source": [
    "# 处理缺失数据"
   ]
  },
  {
   "cell_type": "code",
   "execution_count": null,
   "metadata": {},
   "outputs": [],
   "source": []
  }
 ],
 "metadata": {
  "kernelspec": {
   "display_name": "R",
   "language": "R",
   "name": "ir"
  },
  "language_info": {
   "codemirror_mode": "r",
   "file_extension": ".r",
   "mimetype": "text/x-r-source",
   "name": "R",
   "pygments_lexer": "r",
   "version": "3.4.3"
  }
 },
 "nbformat": 4,
 "nbformat_minor": 2
}
