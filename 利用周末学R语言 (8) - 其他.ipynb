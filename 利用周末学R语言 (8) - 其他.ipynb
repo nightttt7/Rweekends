{
 "cells": [
  {
   "cell_type": "markdown",
   "metadata": {},
   "source": [
    "# 功效分析\n",
    "功效分析 power analysis 可以帮助在给定置信度的情况下，判断检测到给定效应值时所需的样本量  \n",
    "它也可以帮助你在给定置信度水平情况下，计算在某样本量内能检测到给定效应值的概率  \n",
    "pwr模块可以实现功效分析  对于每个函数，用户可以设定四个量样本大小、显著性水平、功效和效应值中的三个量，第四个量将由软件计算出来  \n",
    "功效通过1减去II型错误的概率来定义。我们可以把它看做是真实效应发生的概率  \n",
    "效应值指的是在备择或研究假设下效应的量。效应值的表达式依赖于假设检验中使用的统计方法。  "
   ]
  },
  {
   "cell_type": "code",
   "execution_count": 6,
   "metadata": {},
   "outputs": [
    {
     "data": {
      "text/plain": [
       "\n",
       "     Two-sample t test power calculation \n",
       "\n",
       "              n = 33.82555\n",
       "              d = 0.8\n",
       "      sig.level = 0.05\n",
       "          power = 0.9\n",
       "    alternative = two.sided\n",
       "\n",
       "NOTE: n is number in *each* group\n"
      ]
     },
     "metadata": {},
     "output_type": "display_data"
    }
   ],
   "source": [
    "library('pwr')\n",
    "# 你根据过去的经验知道反应时间有1.25 s的标准偏差，并认定反应时间1 s的差值是巨大的差异，\n",
    "# 那么在这个研究中，可设定要检测的效应值为d=1/1.25=0.8或者更大。\n",
    "# 另外，如果差异存在，你希望有90%的把握检测到它，由于随机变异性的存在，你也希望有95%的把握不会误报差异显著。\n",
    "# 这时，对于该研究需要多少受试者呢？\n",
    "pwr.t.test(d=0.8,sig.level=0.05,power=0.9,type=\"two.sample\",alternative=\"two.sided\")\n",
    "# 需要两组,每组34个测试者"
   ]
  },
  {
   "cell_type": "code",
   "execution_count": 7,
   "metadata": {},
   "outputs": [
    {
     "data": {
      "text/plain": [
       "\n",
       "     Balanced one-way analysis of variance power calculation \n",
       "\n",
       "              k = 5\n",
       "              n = 39.1534\n",
       "              f = 0.25\n",
       "      sig.level = 0.05\n",
       "          power = 0.8\n",
       "\n",
       "NOTE: n is number in each group\n"
      ]
     },
     "metadata": {},
     "output_type": "display_data"
    }
   ],
   "source": [
    "# 现对五个组做单因素方差分析，要达到0.8的功效，效应值为0.25，\n",
    "# 并选择0.05的显著性水平，计算各组需要的样本大小\n",
    "pwr.anova.test(k=5,f=0.25,sig.level=0.05,power=0.8)\n",
    "# 总样本大小为5 × 39 = 195"
   ]
  },
  {
   "cell_type": "markdown",
   "metadata": {},
   "source": [
    "- 相关性\n",
    "- 线性模型\n",
    "- 比例检验\n",
    "- 卡方检验"
   ]
  },
  {
   "cell_type": "markdown",
   "metadata": {},
   "source": [
    "# 重抽样和自助法"
   ]
  },
  {
   "cell_type": "code",
   "execution_count": 8,
   "metadata": {},
   "outputs": [
    {
     "data": {
      "text/html": [
       "<table>\n",
       "<thead><tr><th scope=col>treatment</th><th scope=col>score</th></tr></thead>\n",
       "<tbody>\n",
       "\t<tr><td>a </td><td>40</td></tr>\n",
       "\t<tr><td>a </td><td>57</td></tr>\n",
       "\t<tr><td>a </td><td>45</td></tr>\n",
       "\t<tr><td>a </td><td>55</td></tr>\n",
       "\t<tr><td>a </td><td>58</td></tr>\n",
       "\t<tr><td>B </td><td>57</td></tr>\n",
       "\t<tr><td>B </td><td>64</td></tr>\n",
       "\t<tr><td>B </td><td>55</td></tr>\n",
       "\t<tr><td>B </td><td>62</td></tr>\n",
       "\t<tr><td>B </td><td>65</td></tr>\n",
       "</tbody>\n",
       "</table>\n"
      ],
      "text/latex": [
       "\\begin{tabular}{r|ll}\n",
       " treatment & score\\\\\n",
       "\\hline\n",
       "\t a  & 40\\\\\n",
       "\t a  & 57\\\\\n",
       "\t a  & 45\\\\\n",
       "\t a  & 55\\\\\n",
       "\t a  & 58\\\\\n",
       "\t B  & 57\\\\\n",
       "\t B  & 64\\\\\n",
       "\t B  & 55\\\\\n",
       "\t B  & 62\\\\\n",
       "\t B  & 65\\\\\n",
       "\\end{tabular}\n"
      ],
      "text/markdown": [
       "\n",
       "treatment | score | \n",
       "|---|---|---|---|---|---|---|---|---|---|\n",
       "| a  | 40 | \n",
       "| a  | 57 | \n",
       "| a  | 45 | \n",
       "| a  | 55 | \n",
       "| a  | 58 | \n",
       "| B  | 57 | \n",
       "| B  | 64 | \n",
       "| B  | 55 | \n",
       "| B  | 62 | \n",
       "| B  | 65 | \n",
       "\n",
       "\n"
      ],
      "text/plain": [
       "   treatment score\n",
       "1  a         40   \n",
       "2  a         57   \n",
       "3  a         45   \n",
       "4  a         55   \n",
       "5  a         58   \n",
       "6  B         57   \n",
       "7  B         64   \n",
       "8  B         55   \n",
       "9  B         62   \n",
       "10 B         65   "
      ]
     },
     "metadata": {},
     "output_type": "display_data"
    }
   ],
   "source": [
    "# 独立两样本检验\n",
    "library(coin)\n",
    "score <- c(40,57,45,55,58,57,64,55,62,65)\n",
    "treatment <- factor(c(rep(\"a\",5),rep(\"B\",5)))\n",
    "mydata <- data.frame(treatment,score)\n",
    "mydata"
   ]
  },
  {
   "cell_type": "code",
   "execution_count": 9,
   "metadata": {},
   "outputs": [
    {
     "data": {
      "text/plain": [
       "\n",
       "\tTwo Sample t-test\n",
       "\n",
       "data:  score by treatment\n",
       "t = -2.345, df = 8, p-value = 0.04705\n",
       "alternative hypothesis: true difference in means is not equal to 0\n",
       "95 percent confidence interval:\n",
       " -19.0405455  -0.1594545\n",
       "sample estimates:\n",
       "mean in group a mean in group B \n",
       "           51.0            60.6 \n"
      ]
     },
     "metadata": {},
     "output_type": "display_data"
    }
   ],
   "source": [
    "# 传统t检验\n",
    "t.test(score~treatment,data=mydata,var.equal=TRUE)"
   ]
  },
  {
   "cell_type": "code",
   "execution_count": 10,
   "metadata": {},
   "outputs": [
    {
     "data": {
      "text/plain": [
       "\n",
       "\tExact Two-Sample Fisher-Pitman Permutation Test\n",
       "\n",
       "data:  score by treatment (a, B)\n",
       "Z = -1.9147, p-value = 0.07143\n",
       "alternative hypothesis: true mu is not equal to 0\n"
      ]
     },
     "metadata": {},
     "output_type": "display_data"
    }
   ],
   "source": [
    "# 置换检验\n",
    "oneway_test(score~treatment,data=mydata,distribution=\"exact\")"
   ]
  },
  {
   "cell_type": "code",
   "execution_count": 13,
   "metadata": {},
   "outputs": [
    {
     "data": {
      "text/plain": [
       "\n",
       "\tApproximative Pearson Chi-Squared Test\n",
       "\n",
       "data:  Treatment by Improved (1, 2, 3)\n",
       "chi-squared = 13.055, p-value = 0.0018\n"
      ]
     },
     "metadata": {},
     "output_type": "display_data"
    }
   ],
   "source": [
    "# 用置换检验判断两类别变量的独立性\n",
    "library(coin)\n",
    "library(vcd)\n",
    "Arthritis <- transform(Arthritis, Improved=as.factor(as.numeric(Improved)))\n",
    "set.seed(1234)\n",
    "chisq_test(Treatment~Improved, data=Arthritis,distribution=approximate(B=9999))"
   ]
  },
  {
   "cell_type": "markdown",
   "metadata": {},
   "source": [
    "1. 数值变量间的独立性\n",
    "2. 两样本和K样本相关性检验\n",
    "3. lmPerm包\n",
    "4. 自助法\n",
    "5. boot包的自助法"
   ]
  },
  {
   "cell_type": "markdown",
   "metadata": {},
   "source": [
    "# 主成分和因子分析"
   ]
  },
  {
   "cell_type": "code",
   "execution_count": 23,
   "metadata": {},
   "outputs": [
    {
     "data": {
      "text/html": [
       "<table>\n",
       "<thead><tr><th></th><th scope=col>CONT</th><th scope=col>INTG</th><th scope=col>DMNR</th><th scope=col>DILG</th><th scope=col>CFMG</th><th scope=col>DECI</th><th scope=col>PREP</th><th scope=col>FAMI</th><th scope=col>ORAL</th><th scope=col>WRIT</th><th scope=col>PHYS</th><th scope=col>RTEN</th></tr></thead>\n",
       "<tbody>\n",
       "\t<tr><th scope=row>AARONSON,L.H.</th><td>5.7</td><td>7.9</td><td>7.7</td><td>7.3</td><td>7.1</td><td>7.4</td><td>7.1</td><td>7.1</td><td>7.1</td><td>7.0</td><td>8.3</td><td>7.8</td></tr>\n",
       "\t<tr><th scope=row>ALEXANDER,J.M.</th><td>6.8</td><td>8.9</td><td>8.8</td><td>8.5</td><td>7.8</td><td>8.1</td><td>8.0</td><td>8.0</td><td>7.8</td><td>7.9</td><td>8.5</td><td>8.7</td></tr>\n",
       "\t<tr><th scope=row>ARMENTANO,A.J.</th><td>7.2</td><td>8.1</td><td>7.8</td><td>7.8</td><td>7.5</td><td>7.6</td><td>7.5</td><td>7.5</td><td>7.3</td><td>7.4</td><td>7.9</td><td>7.8</td></tr>\n",
       "\t<tr><th scope=row>BERDON,R.I.</th><td>6.8</td><td>8.8</td><td>8.5</td><td>8.8</td><td>8.3</td><td>8.5</td><td>8.7</td><td>8.7</td><td>8.4</td><td>8.5</td><td>8.8</td><td>8.7</td></tr>\n",
       "\t<tr><th scope=row>BRACKEN,J.J.</th><td>7.3</td><td>6.4</td><td>4.3</td><td>6.5</td><td>6.0</td><td>6.2</td><td>5.7</td><td>5.7</td><td>5.1</td><td>5.3</td><td>5.5</td><td>4.8</td></tr>\n",
       "\t<tr><th scope=row>BURNS,E.B.</th><td>6.2</td><td>8.8</td><td>8.7</td><td>8.5</td><td>7.9</td><td>8.0</td><td>8.1</td><td>8.0</td><td>8.0</td><td>8.0</td><td>8.6</td><td>8.6</td></tr>\n",
       "</tbody>\n",
       "</table>\n"
      ],
      "text/latex": [
       "\\begin{tabular}{r|llllllllllll}\n",
       "  & CONT & INTG & DMNR & DILG & CFMG & DECI & PREP & FAMI & ORAL & WRIT & PHYS & RTEN\\\\\n",
       "\\hline\n",
       "\tAARONSON,L.H. & 5.7 & 7.9 & 7.7 & 7.3 & 7.1 & 7.4 & 7.1 & 7.1 & 7.1 & 7.0 & 8.3 & 7.8\\\\\n",
       "\tALEXANDER,J.M. & 6.8 & 8.9 & 8.8 & 8.5 & 7.8 & 8.1 & 8.0 & 8.0 & 7.8 & 7.9 & 8.5 & 8.7\\\\\n",
       "\tARMENTANO,A.J. & 7.2 & 8.1 & 7.8 & 7.8 & 7.5 & 7.6 & 7.5 & 7.5 & 7.3 & 7.4 & 7.9 & 7.8\\\\\n",
       "\tBERDON,R.I. & 6.8 & 8.8 & 8.5 & 8.8 & 8.3 & 8.5 & 8.7 & 8.7 & 8.4 & 8.5 & 8.8 & 8.7\\\\\n",
       "\tBRACKEN,J.J. & 7.3 & 6.4 & 4.3 & 6.5 & 6.0 & 6.2 & 5.7 & 5.7 & 5.1 & 5.3 & 5.5 & 4.8\\\\\n",
       "\tBURNS,E.B. & 6.2 & 8.8 & 8.7 & 8.5 & 7.9 & 8.0 & 8.1 & 8.0 & 8.0 & 8.0 & 8.6 & 8.6\\\\\n",
       "\\end{tabular}\n"
      ],
      "text/markdown": [
       "\n",
       "| <!--/--> | CONT | INTG | DMNR | DILG | CFMG | DECI | PREP | FAMI | ORAL | WRIT | PHYS | RTEN | \n",
       "|---|---|---|---|---|---|\n",
       "| AARONSON,L.H. | 5.7 | 7.9 | 7.7 | 7.3 | 7.1 | 7.4 | 7.1 | 7.1 | 7.1 | 7.0 | 8.3 | 7.8 | \n",
       "| ALEXANDER,J.M. | 6.8 | 8.9 | 8.8 | 8.5 | 7.8 | 8.1 | 8.0 | 8.0 | 7.8 | 7.9 | 8.5 | 8.7 | \n",
       "| ARMENTANO,A.J. | 7.2 | 8.1 | 7.8 | 7.8 | 7.5 | 7.6 | 7.5 | 7.5 | 7.3 | 7.4 | 7.9 | 7.8 | \n",
       "| BERDON,R.I. | 6.8 | 8.8 | 8.5 | 8.8 | 8.3 | 8.5 | 8.7 | 8.7 | 8.4 | 8.5 | 8.8 | 8.7 | \n",
       "| BRACKEN,J.J. | 7.3 | 6.4 | 4.3 | 6.5 | 6.0 | 6.2 | 5.7 | 5.7 | 5.1 | 5.3 | 5.5 | 4.8 | \n",
       "| BURNS,E.B. | 6.2 | 8.8 | 8.7 | 8.5 | 7.9 | 8.0 | 8.1 | 8.0 | 8.0 | 8.0 | 8.6 | 8.6 | \n",
       "\n",
       "\n"
      ],
      "text/plain": [
       "               CONT INTG DMNR DILG CFMG DECI PREP FAMI ORAL WRIT PHYS RTEN\n",
       "AARONSON,L.H.  5.7  7.9  7.7  7.3  7.1  7.4  7.1  7.1  7.1  7.0  8.3  7.8 \n",
       "ALEXANDER,J.M. 6.8  8.9  8.8  8.5  7.8  8.1  8.0  8.0  7.8  7.9  8.5  8.7 \n",
       "ARMENTANO,A.J. 7.2  8.1  7.8  7.8  7.5  7.6  7.5  7.5  7.3  7.4  7.9  7.8 \n",
       "BERDON,R.I.    6.8  8.8  8.5  8.8  8.3  8.5  8.7  8.7  8.4  8.5  8.8  8.7 \n",
       "BRACKEN,J.J.   7.3  6.4  4.3  6.5  6.0  6.2  5.7  5.7  5.1  5.3  5.5  4.8 \n",
       "BURNS,E.B.     6.2  8.8  8.7  8.5  7.9  8.0  8.1  8.0  8.0  8.0  8.6  8.6 "
      ]
     },
     "metadata": {},
     "output_type": "display_data"
    }
   ],
   "source": [
    "library(psych)\n",
    "head(USJudgeRatings)"
   ]
  },
  {
   "cell_type": "code",
   "execution_count": 22,
   "metadata": {},
   "outputs": [
    {
     "name": "stderr",
     "output_type": "stream",
     "text": [
      "The estimated weights for the factor scores are probably incorrect.  Try a different factor extraction method.\n"
     ]
    },
    {
     "name": "stdout",
     "output_type": "stream",
     "text": [
      "Parallel analysis suggests that the number of factors =  NA  and the number of components =  1 \n"
     ]
    },
    {
     "data": {
      "image/png": "[encoded data removed]",
      "text/plain": [
       "Plot with title \"Parallel Analysis Scree Plots\""
      ]
     },
     "metadata": {},
     "output_type": "display_data"
    }
   ],
   "source": [
    "# 判断主成分的个数\n",
    "fa.parallel(USJudgeRatings[,-1], fa=\"pc\", \n",
    "            n.iter=100, show.legend=FALSE)"
   ]
  },
  {
   "cell_type": "code",
   "execution_count": 26,
   "metadata": {},
   "outputs": [
    {
     "data": {
      "text/plain": [
       "Principal Components Analysis\n",
       "Call: principal(r = USJudgeRatings[, -1], nfactors = 1)\n",
       "Standardized loadings (pattern matrix) based upon correlation matrix\n",
       "      PC1   h2     u2 com\n",
       "INTG 0.92 0.84 0.1565   1\n",
       "DMNR 0.91 0.83 0.1663   1\n",
       "DILG 0.97 0.94 0.0613   1\n",
       "CFMG 0.96 0.93 0.0720   1\n",
       "DECI 0.96 0.92 0.0763   1\n",
       "PREP 0.98 0.97 0.0299   1\n",
       "FAMI 0.98 0.95 0.0469   1\n",
       "ORAL 1.00 0.99 0.0091   1\n",
       "WRIT 0.99 0.98 0.0196   1\n",
       "PHYS 0.89 0.80 0.2013   1\n",
       "RTEN 0.99 0.97 0.0275   1\n",
       "\n",
       "                 PC1\n",
       "SS loadings    10.13\n",
       "Proportion Var  0.92\n",
       "\n",
       "Mean item complexity =  1\n",
       "Test of the hypothesis that 1 component is sufficient.\n",
       "\n",
       "The root mean square of the residuals (RMSR) is  0.04 \n",
       " with the empirical chi square  6.21  with prob <  1 \n",
       "\n",
       "Fit based upon off diagonal values = 1"
      ]
     },
     "metadata": {},
     "output_type": "display_data"
    }
   ],
   "source": [
    "# 提取主成分 \n",
    "pc <- principal(USJudgeRatings[,-1], nfactors = 1)\n",
    "pc\n",
    "# PC1栏包含了成分载荷，指观测变量与主成分的相关系数\n",
    "# 如果提取不止一个主成分，那么还将会有PC2、PC3等栏\n",
    "# h2栏指成分公因子方差——主成分对每个变量的方差解释度\n",
    "# u2栏指成分唯一性——方无法被主成分解释的比例（1-h2）"
   ]
  },
  {
   "cell_type": "code",
   "execution_count": 27,
   "metadata": {},
   "outputs": [],
   "source": [
    "# 主成分旋转"
   ]
  },
  {
   "cell_type": "code",
   "execution_count": 29,
   "metadata": {},
   "outputs": [
    {
     "data": {
      "text/html": [
       "<table>\n",
       "<thead><tr><th></th><th scope=col>PC1</th></tr></thead>\n",
       "<tbody>\n",
       "\t<tr><th scope=row>AARONSON,L.H.</th><td>-0.1857981</td></tr>\n",
       "\t<tr><th scope=row>ALEXANDER,J.M.</th><td> 0.7469865</td></tr>\n",
       "\t<tr><th scope=row>ARMENTANO,A.J.</th><td> 0.0704772</td></tr>\n",
       "\t<tr><th scope=row>BERDON,R.I.</th><td> 1.1358765</td></tr>\n",
       "\t<tr><th scope=row>BRACKEN,J.J.</th><td>-2.1586211</td></tr>\n",
       "\t<tr><th scope=row>BURNS,E.B.</th><td> 0.7669406</td></tr>\n",
       "</tbody>\n",
       "</table>\n"
      ],
      "text/latex": [
       "\\begin{tabular}{r|l}\n",
       "  & PC1\\\\\n",
       "\\hline\n",
       "\tAARONSON,L.H. & -0.1857981\\\\\n",
       "\tALEXANDER,J.M. &  0.7469865\\\\\n",
       "\tARMENTANO,A.J. &  0.0704772\\\\\n",
       "\tBERDON,R.I. &  1.1358765\\\\\n",
       "\tBRACKEN,J.J. & -2.1586211\\\\\n",
       "\tBURNS,E.B. &  0.7669406\\\\\n",
       "\\end{tabular}\n"
      ],
      "text/markdown": [
       "\n",
       "| <!--/--> | PC1 | \n",
       "|---|---|---|---|---|---|\n",
       "| AARONSON,L.H. | -0.1857981 | \n",
       "| ALEXANDER,J.M. |  0.7469865 | \n",
       "| ARMENTANO,A.J. |  0.0704772 | \n",
       "| BERDON,R.I. |  1.1358765 | \n",
       "| BRACKEN,J.J. | -2.1586211 | \n",
       "| BURNS,E.B. |  0.7669406 | \n",
       "\n",
       "\n"
      ],
      "text/plain": [
       "               PC1       \n",
       "AARONSON,L.H.  -0.1857981\n",
       "ALEXANDER,J.M.  0.7469865\n",
       "ARMENTANO,A.J.  0.0704772\n",
       "BERDON,R.I.     1.1358765\n",
       "BRACKEN,J.J.   -2.1586211\n",
       "BURNS,E.B.      0.7669406"
      ]
     },
     "metadata": {},
     "output_type": "display_data"
    }
   ],
   "source": [
    "# 获取主成分得分\n",
    "pc <- principal(USJudgeRatings[,-1], nfactors = 1, \n",
    "                scores = TRUE)\n",
    "head(pc$scores)"
   ]
  },
  {
   "cell_type": "code",
   "execution_count": 30,
   "metadata": {},
   "outputs": [
    {
     "data": {
      "text/html": [
       "<table>\n",
       "<thead><tr><th scope=col>PC1</th></tr></thead>\n",
       "<tbody>\n",
       "\t<tr><td>-0.008815895</td></tr>\n",
       "</tbody>\n",
       "</table>\n"
      ],
      "text/latex": [
       "\\begin{tabular}{l}\n",
       " PC1\\\\\n",
       "\\hline\n",
       "\t -0.008815895\\\\\n",
       "\\end{tabular}\n"
      ],
      "text/markdown": [
       "\n",
       "PC1 | \n",
       "|---|\n",
       "| -0.008815895 | \n",
       "\n",
       "\n"
      ],
      "text/plain": [
       "     PC1         \n",
       "[1,] -0.008815895"
      ]
     },
     "metadata": {},
     "output_type": "display_data"
    }
   ],
   "source": [
    "cor(USJudgeRatings$CONT, pc$scores)"
   ]
  },
  {
   "cell_type": "code",
   "execution_count": 32,
   "metadata": {},
   "outputs": [],
   "source": [
    "# 探索性因子分析 "
   ]
  },
  {
   "cell_type": "markdown",
   "metadata": {},
   "source": [
    "# 处理缺失数据"
   ]
  },
  {
   "cell_type": "code",
   "execution_count": 31,
   "metadata": {},
   "outputs": [],
   "source": [
    "# 处理缺失数据的传统方法和现代方法，主要使用VIM和mice包\n",
    "# 使用用VIM包提供的哺乳动物睡眠数据"
   ]
  },
  {
   "cell_type": "code",
   "execution_count": 44,
   "metadata": {},
   "outputs": [
    {
     "data": {
      "text/html": [
       "NaN"
      ],
      "text/latex": [
       "NaN"
      ],
      "text/markdown": [
       "NaN"
      ],
      "text/plain": [
       "[1] NaN"
      ]
     },
     "metadata": {},
     "output_type": "display_data"
    },
    {
     "data": {
      "text/html": [
       "TRUE"
      ],
      "text/latex": [
       "TRUE"
      ],
      "text/markdown": [
       "TRUE"
      ],
      "text/plain": [
       "[1] TRUE"
      ]
     },
     "metadata": {},
     "output_type": "display_data"
    },
    {
     "data": {
      "text/html": [
       "TRUE"
      ],
      "text/latex": [
       "TRUE"
      ],
      "text/markdown": [
       "TRUE"
      ],
      "text/plain": [
       "[1] TRUE"
      ]
     },
     "metadata": {},
     "output_type": "display_data"
    },
    {
     "data": {
      "text/html": [
       "TRUE"
      ],
      "text/latex": [
       "TRUE"
      ],
      "text/markdown": [
       "TRUE"
      ],
      "text/plain": [
       "[1] TRUE"
      ]
     },
     "metadata": {},
     "output_type": "display_data"
    }
   ],
   "source": [
    "0/0\n",
    "is.nan(0/0)\n",
    "is.na(0/0)\n",
    "is.infinite(1/0)"
   ]
  },
  {
   "cell_type": "code",
   "execution_count": 52,
   "metadata": {},
   "outputs": [
    {
     "data": {
      "text/html": [
       "<table>\n",
       "<thead><tr><th></th><th scope=col>BodyWgt</th><th scope=col>BrainWgt</th><th scope=col>NonD</th><th scope=col>Dream</th><th scope=col>Sleep</th><th scope=col>Span</th><th scope=col>Gest</th><th scope=col>Pred</th><th scope=col>Exp</th><th scope=col>Danger</th></tr></thead>\n",
       "<tbody>\n",
       "\t<tr><th scope=row>2</th><td>   1.00</td><td>   6.6 </td><td>6.3    </td><td>2.0    </td><td>8.3    </td><td> 4.5   </td><td> 42    </td><td>3      </td><td>1      </td><td>3      </td></tr>\n",
       "\t<tr><th scope=row>5</th><td>2547.00</td><td>4603.0 </td><td>2.1    </td><td>1.8    </td><td>3.9    </td><td>69.0   </td><td>624    </td><td>3      </td><td>5      </td><td>4      </td></tr>\n",
       "\t<tr><th scope=row>6</th><td>  10.55</td><td> 179.5 </td><td>9.1    </td><td>0.7    </td><td>9.8    </td><td>27.0   </td><td>180    </td><td>4      </td><td>4      </td><td>4      </td></tr>\n",
       "</tbody>\n",
       "</table>\n"
      ],
      "text/latex": [
       "\\begin{tabular}{r|llllllllll}\n",
       "  & BodyWgt & BrainWgt & NonD & Dream & Sleep & Span & Gest & Pred & Exp & Danger\\\\\n",
       "\\hline\n",
       "\t2 &    1.00 &    6.6  & 6.3     & 2.0     & 8.3     &  4.5    &  42     & 3       & 1       & 3      \\\\\n",
       "\t5 & 2547.00 & 4603.0  & 2.1     & 1.8     & 3.9     & 69.0    & 624     & 3       & 5       & 4      \\\\\n",
       "\t6 &   10.55 &  179.5  & 9.1     & 0.7     & 9.8     & 27.0    & 180     & 4       & 4       & 4      \\\\\n",
       "\\end{tabular}\n"
      ],
      "text/markdown": [
       "\n",
       "| <!--/--> | BodyWgt | BrainWgt | NonD | Dream | Sleep | Span | Gest | Pred | Exp | Danger | \n",
       "|---|---|---|\n",
       "| 2 |    1.00 |    6.6  | 6.3     | 2.0     | 8.3     |  4.5    |  42     | 3       | 1       | 3       | \n",
       "| 5 | 2547.00 | 4603.0  | 2.1     | 1.8     | 3.9     | 69.0    | 624     | 3       | 5       | 4       | \n",
       "| 6 |   10.55 |  179.5  | 9.1     | 0.7     | 9.8     | 27.0    | 180     | 4       | 4       | 4       | \n",
       "\n",
       "\n"
      ],
      "text/plain": [
       "  BodyWgt BrainWgt NonD Dream Sleep Span Gest Pred Exp Danger\n",
       "2    1.00    6.6   6.3  2.0   8.3    4.5  42  3    1   3     \n",
       "5 2547.00 4603.0   2.1  1.8   3.9   69.0 624  3    5   4     \n",
       "6   10.55  179.5   9.1  0.7   9.8   27.0 180  4    4   4     "
      ]
     },
     "metadata": {},
     "output_type": "display_data"
    }
   ],
   "source": [
    "data(sleep,package=\"VIM\")\n",
    "head(sleep[complete.cases(sleep),],3)"
   ]
  },
  {
   "cell_type": "code",
   "execution_count": 53,
   "metadata": {},
   "outputs": [
    {
     "data": {
      "text/html": [
       "<table>\n",
       "<thead><tr><th></th><th scope=col>BodyWgt</th><th scope=col>BrainWgt</th><th scope=col>NonD</th><th scope=col>Dream</th><th scope=col>Sleep</th><th scope=col>Span</th><th scope=col>Gest</th><th scope=col>Pred</th><th scope=col>Exp</th><th scope=col>Danger</th></tr></thead>\n",
       "<tbody>\n",
       "\t<tr><th scope=row>2</th><td>FALSE</td><td>FALSE</td><td>FALSE</td><td>FALSE</td><td>FALSE</td><td>FALSE</td><td>FALSE</td><td>FALSE</td><td>FALSE</td><td>FALSE</td></tr>\n",
       "\t<tr><th scope=row>5</th><td>FALSE</td><td>FALSE</td><td>FALSE</td><td>FALSE</td><td>FALSE</td><td>FALSE</td><td>FALSE</td><td>FALSE</td><td>FALSE</td><td>FALSE</td></tr>\n",
       "\t<tr><th scope=row>6</th><td>FALSE</td><td>FALSE</td><td>FALSE</td><td>FALSE</td><td>FALSE</td><td>FALSE</td><td>FALSE</td><td>FALSE</td><td>FALSE</td><td>FALSE</td></tr>\n",
       "</tbody>\n",
       "</table>\n"
      ],
      "text/latex": [
       "\\begin{tabular}{r|llllllllll}\n",
       "  & BodyWgt & BrainWgt & NonD & Dream & Sleep & Span & Gest & Pred & Exp & Danger\\\\\n",
       "\\hline\n",
       "\t2 & FALSE & FALSE & FALSE & FALSE & FALSE & FALSE & FALSE & FALSE & FALSE & FALSE\\\\\n",
       "\t5 & FALSE & FALSE & FALSE & FALSE & FALSE & FALSE & FALSE & FALSE & FALSE & FALSE\\\\\n",
       "\t6 & FALSE & FALSE & FALSE & FALSE & FALSE & FALSE & FALSE & FALSE & FALSE & FALSE\\\\\n",
       "\\end{tabular}\n"
      ],
      "text/markdown": [
       "\n",
       "| <!--/--> | BodyWgt | BrainWgt | NonD | Dream | Sleep | Span | Gest | Pred | Exp | Danger | \n",
       "|---|---|---|\n",
       "| 2 | FALSE | FALSE | FALSE | FALSE | FALSE | FALSE | FALSE | FALSE | FALSE | FALSE | \n",
       "| 5 | FALSE | FALSE | FALSE | FALSE | FALSE | FALSE | FALSE | FALSE | FALSE | FALSE | \n",
       "| 6 | FALSE | FALSE | FALSE | FALSE | FALSE | FALSE | FALSE | FALSE | FALSE | FALSE | \n",
       "\n",
       "\n"
      ],
      "text/plain": [
       "  BodyWgt BrainWgt NonD  Dream Sleep Span  Gest  Pred  Exp   Danger\n",
       "2 FALSE   FALSE    FALSE FALSE FALSE FALSE FALSE FALSE FALSE FALSE \n",
       "5 FALSE   FALSE    FALSE FALSE FALSE FALSE FALSE FALSE FALSE FALSE \n",
       "6 FALSE   FALSE    FALSE FALSE FALSE FALSE FALSE FALSE FALSE FALSE "
      ]
     },
     "metadata": {},
     "output_type": "display_data"
    }
   ],
   "source": [
    "head(!sleep[complete.cases(sleep),],3)"
   ]
  },
  {
   "cell_type": "code",
   "execution_count": 54,
   "metadata": {},
   "outputs": [
    {
     "data": {
      "text/html": [
       "<table>\n",
       "<thead><tr><th></th><th scope=col>BodyWgt</th><th scope=col>BrainWgt</th><th scope=col>Pred</th><th scope=col>Exp</th><th scope=col>Danger</th><th scope=col>Sleep</th><th scope=col>Span</th><th scope=col>Gest</th><th scope=col>Dream</th><th scope=col>NonD</th><th scope=col></th></tr></thead>\n",
       "<tbody>\n",
       "\t<tr><th scope=row>42</th><td>1 </td><td>1 </td><td>1 </td><td>1 </td><td>1 </td><td>1 </td><td>1 </td><td>1 </td><td> 1</td><td> 1</td><td> 0</td></tr>\n",
       "\t<tr><th scope=row> 2</th><td>1 </td><td>1 </td><td>1 </td><td>1 </td><td>1 </td><td>1 </td><td>0 </td><td>1 </td><td> 1</td><td> 1</td><td> 1</td></tr>\n",
       "\t<tr><th scope=row> 3</th><td>1 </td><td>1 </td><td>1 </td><td>1 </td><td>1 </td><td>1 </td><td>1 </td><td>0 </td><td> 1</td><td> 1</td><td> 1</td></tr>\n",
       "\t<tr><th scope=row> 9</th><td>1 </td><td>1 </td><td>1 </td><td>1 </td><td>1 </td><td>1 </td><td>1 </td><td>1 </td><td> 0</td><td> 0</td><td> 2</td></tr>\n",
       "\t<tr><th scope=row> 2</th><td>1 </td><td>1 </td><td>1 </td><td>1 </td><td>1 </td><td>0 </td><td>1 </td><td>1 </td><td> 1</td><td> 0</td><td> 2</td></tr>\n",
       "\t<tr><th scope=row> 1</th><td>1 </td><td>1 </td><td>1 </td><td>1 </td><td>1 </td><td>1 </td><td>0 </td><td>0 </td><td> 1</td><td> 1</td><td> 2</td></tr>\n",
       "\t<tr><th scope=row> 2</th><td>1 </td><td>1 </td><td>1 </td><td>1 </td><td>1 </td><td>0 </td><td>1 </td><td>1 </td><td> 0</td><td> 0</td><td> 3</td></tr>\n",
       "\t<tr><th scope=row> 1</th><td>1 </td><td>1 </td><td>1 </td><td>1 </td><td>1 </td><td>1 </td><td>0 </td><td>1 </td><td> 0</td><td> 0</td><td> 3</td></tr>\n",
       "\t<tr><th scope=row></th><td>0 </td><td>0 </td><td>0 </td><td>0 </td><td>0 </td><td>4 </td><td>4 </td><td>4 </td><td>12</td><td>14</td><td>38</td></tr>\n",
       "</tbody>\n",
       "</table>\n"
      ],
      "text/latex": [
       "\\begin{tabular}{r|lllllllllll}\n",
       "  & BodyWgt & BrainWgt & Pred & Exp & Danger & Sleep & Span & Gest & Dream & NonD & \\\\\n",
       "\\hline\n",
       "\t42 & 1  & 1  & 1  & 1  & 1  & 1  & 1  & 1  &  1 &  1 &  0\\\\\n",
       "\t 2 & 1  & 1  & 1  & 1  & 1  & 1  & 0  & 1  &  1 &  1 &  1\\\\\n",
       "\t 3 & 1  & 1  & 1  & 1  & 1  & 1  & 1  & 0  &  1 &  1 &  1\\\\\n",
       "\t 9 & 1  & 1  & 1  & 1  & 1  & 1  & 1  & 1  &  0 &  0 &  2\\\\\n",
       "\t 2 & 1  & 1  & 1  & 1  & 1  & 0  & 1  & 1  &  1 &  0 &  2\\\\\n",
       "\t 1 & 1  & 1  & 1  & 1  & 1  & 1  & 0  & 0  &  1 &  1 &  2\\\\\n",
       "\t 2 & 1  & 1  & 1  & 1  & 1  & 0  & 1  & 1  &  0 &  0 &  3\\\\\n",
       "\t 1 & 1  & 1  & 1  & 1  & 1  & 1  & 0  & 1  &  0 &  0 &  3\\\\\n",
       "\t & 0  & 0  & 0  & 0  & 0  & 4  & 4  & 4  & 12 & 14 & 38\\\\\n",
       "\\end{tabular}\n"
      ],
      "text/markdown": [
       "\n",
       "| <!--/--> | BodyWgt | BrainWgt | Pred | Exp | Danger | Sleep | Span | Gest | Dream | NonD |  | \n",
       "|---|---|---|---|---|---|---|---|---|\n",
       "| 42 | 1  | 1  | 1  | 1  | 1  | 1  | 1  | 1  |  1 |  1 |  0 | \n",
       "|  2 | 1  | 1  | 1  | 1  | 1  | 1  | 0  | 1  |  1 |  1 |  1 | \n",
       "|  3 | 1  | 1  | 1  | 1  | 1  | 1  | 1  | 0  |  1 |  1 |  1 | \n",
       "|  9 | 1  | 1  | 1  | 1  | 1  | 1  | 1  | 1  |  0 |  0 |  2 | \n",
       "|  2 | 1  | 1  | 1  | 1  | 1  | 0  | 1  | 1  |  1 |  0 |  2 | \n",
       "|  1 | 1  | 1  | 1  | 1  | 1  | 1  | 0  | 0  |  1 |  1 |  2 | \n",
       "|  2 | 1  | 1  | 1  | 1  | 1  | 0  | 1  | 1  |  0 |  0 |  3 | \n",
       "|  1 | 1  | 1  | 1  | 1  | 1  | 1  | 0  | 1  |  0 |  0 |  3 | \n",
       "|  | 0  | 0  | 0  | 0  | 0  | 4  | 4  | 4  | 12 | 14 | 38 | \n",
       "\n",
       "\n"
      ],
      "text/plain": [
       "   BodyWgt BrainWgt Pred Exp Danger Sleep Span Gest Dream NonD   \n",
       "42 1       1        1    1   1      1     1    1     1     1    0\n",
       " 2 1       1        1    1   1      1     0    1     1     1    1\n",
       " 3 1       1        1    1   1      1     1    0     1     1    1\n",
       " 9 1       1        1    1   1      1     1    1     0     0    2\n",
       " 2 1       1        1    1   1      0     1    1     1     0    2\n",
       " 1 1       1        1    1   1      1     0    0     1     1    2\n",
       " 2 1       1        1    1   1      0     1    1     0     0    3\n",
       " 1 1       1        1    1   1      1     0    1     0     0    3\n",
       "   0       0        0    0   0      4     4    4    12    14   38"
      ]
     },
     "metadata": {},
     "output_type": "display_data"
    }
   ],
   "source": [
    "# 缺失值矩阵\n",
    "mice::md.pattern(sleep)"
   ]
  },
  {
   "cell_type": "code",
   "execution_count": 56,
   "metadata": {},
   "outputs": [
    {
     "data": {
      "image/png": "[encoded data removed]",
      "text/plain": [
       "plot without title"
      ]
     },
     "metadata": {},
     "output_type": "display_data"
    }
   ],
   "source": [
    "VIM::aggr(sleep, prop=FALSE, numbers=TRUE)"
   ]
  },
  {
   "cell_type": "code",
   "execution_count": 58,
   "metadata": {},
   "outputs": [
    {
     "data": {
      "image/png": "[encoded data removed]",
      "text/plain": [
       "plot without title"
      ]
     },
     "metadata": {},
     "output_type": "display_data"
    }
   ],
   "source": [
    "VIM::matrixplot(sleep)"
   ]
  },
  {
   "cell_type": "code",
   "execution_count": 60,
   "metadata": {},
   "outputs": [
    {
     "data": {
      "image/png": "[encoded data removed]",
      "text/plain": [
       "plot without title"
      ]
     },
     "metadata": {},
     "output_type": "display_data"
    }
   ],
   "source": [
    "VIM::marginplot(sleep[c(\"Gest\",\"Dream\")], pch=c(20),\n",
    "               col=c(\"darkgray\", \"red\", \"blue\"))"
   ]
  },
  {
   "cell_type": "code",
   "execution_count": 160,
   "metadata": {},
   "outputs": [
    {
     "data": {
      "text/html": [
       "<table>\n",
       "<thead><tr><th scope=col>BodyWgt</th><th scope=col>BrainWgt</th><th scope=col>NonD</th><th scope=col>Dream</th><th scope=col>Sleep</th><th scope=col>Span</th><th scope=col>Gest</th><th scope=col>Pred</th><th scope=col>Exp</th><th scope=col>Danger</th></tr></thead>\n",
       "<tbody>\n",
       "\t<tr><td>6654.000</td><td>5712.0  </td><td> NA     </td><td> NA     </td><td> 3.3    </td><td>38.6    </td><td>645     </td><td>3       </td><td>5       </td><td>3       </td></tr>\n",
       "\t<tr><td>   1.000</td><td>   6.6  </td><td>6.3     </td><td>2.0     </td><td> 8.3    </td><td> 4.5    </td><td> 42     </td><td>3       </td><td>1       </td><td>3       </td></tr>\n",
       "\t<tr><td>   3.385</td><td>  44.5  </td><td> NA     </td><td> NA     </td><td>12.5    </td><td>14.0    </td><td> 60     </td><td>1       </td><td>1       </td><td>1       </td></tr>\n",
       "\t<tr><td>   0.920</td><td>   5.7  </td><td> NA     </td><td> NA     </td><td>16.5    </td><td>  NA    </td><td> 25     </td><td>5       </td><td>2       </td><td>3       </td></tr>\n",
       "\t<tr><td>2547.000</td><td>4603.0  </td><td>2.1     </td><td>1.8     </td><td> 3.9    </td><td>69.0    </td><td>624     </td><td>3       </td><td>5       </td><td>4       </td></tr>\n",
       "</tbody>\n",
       "</table>\n"
      ],
      "text/latex": [
       "\\begin{tabular}{r|llllllllll}\n",
       " BodyWgt & BrainWgt & NonD & Dream & Sleep & Span & Gest & Pred & Exp & Danger\\\\\n",
       "\\hline\n",
       "\t 6654.000 & 5712.0   &  NA      &  NA      &  3.3     & 38.6     & 645      & 3        & 5        & 3       \\\\\n",
       "\t    1.000 &    6.6   & 6.3      & 2.0      &  8.3     &  4.5     &  42      & 3        & 1        & 3       \\\\\n",
       "\t    3.385 &   44.5   &  NA      &  NA      & 12.5     & 14.0     &  60      & 1        & 1        & 1       \\\\\n",
       "\t    0.920 &    5.7   &  NA      &  NA      & 16.5     &   NA     &  25      & 5        & 2        & 3       \\\\\n",
       "\t 2547.000 & 4603.0   & 2.1      & 1.8      &  3.9     & 69.0     & 624      & 3        & 5        & 4       \\\\\n",
       "\\end{tabular}\n"
      ],
      "text/markdown": [
       "\n",
       "BodyWgt | BrainWgt | NonD | Dream | Sleep | Span | Gest | Pred | Exp | Danger | \n",
       "|---|---|---|---|---|\n",
       "| 6654.000 | 5712.0   |  NA      |  NA      |  3.3     | 38.6     | 645      | 3        | 5        | 3        | \n",
       "|    1.000 |    6.6   | 6.3      | 2.0      |  8.3     |  4.5     |  42      | 3        | 1        | 3        | \n",
       "|    3.385 |   44.5   |  NA      |  NA      | 12.5     | 14.0     |  60      | 1        | 1        | 1        | \n",
       "|    0.920 |    5.7   |  NA      |  NA      | 16.5     |   NA     |  25      | 5        | 2        | 3        | \n",
       "| 2547.000 | 4603.0   | 2.1      | 1.8      |  3.9     | 69.0     | 624      | 3        | 5        | 4        | \n",
       "\n",
       "\n"
      ],
      "text/plain": [
       "  BodyWgt  BrainWgt NonD Dream Sleep Span Gest Pred Exp Danger\n",
       "1 6654.000 5712.0    NA   NA    3.3  38.6 645  3    5   3     \n",
       "2    1.000    6.6   6.3  2.0    8.3   4.5  42  3    1   3     \n",
       "3    3.385   44.5    NA   NA   12.5  14.0  60  1    1   1     \n",
       "4    0.920    5.7    NA   NA   16.5    NA  25  5    2   3     \n",
       "5 2547.000 4603.0   2.1  1.8    3.9  69.0 624  3    5   4     "
      ]
     },
     "metadata": {},
     "output_type": "display_data"
    }
   ],
   "source": [
    "x <- as.data.frame(abs((is.na(sleep))))\n",
    "head(sleep, 5)"
   ]
  },
  {
   "cell_type": "code",
   "execution_count": 161,
   "metadata": {},
   "outputs": [
    {
     "data": {
      "text/html": [
       "<table>\n",
       "<thead><tr><th scope=col>BodyWgt</th><th scope=col>BrainWgt</th><th scope=col>NonD</th><th scope=col>Dream</th><th scope=col>Sleep</th><th scope=col>Span</th><th scope=col>Gest</th><th scope=col>Pred</th><th scope=col>Exp</th><th scope=col>Danger</th></tr></thead>\n",
       "<tbody>\n",
       "\t<tr><td>0</td><td>0</td><td>1</td><td>1</td><td>0</td><td>0</td><td>0</td><td>0</td><td>0</td><td>0</td></tr>\n",
       "\t<tr><td>0</td><td>0</td><td>0</td><td>0</td><td>0</td><td>0</td><td>0</td><td>0</td><td>0</td><td>0</td></tr>\n",
       "\t<tr><td>0</td><td>0</td><td>1</td><td>1</td><td>0</td><td>0</td><td>0</td><td>0</td><td>0</td><td>0</td></tr>\n",
       "\t<tr><td>0</td><td>0</td><td>1</td><td>1</td><td>0</td><td>1</td><td>0</td><td>0</td><td>0</td><td>0</td></tr>\n",
       "\t<tr><td>0</td><td>0</td><td>0</td><td>0</td><td>0</td><td>0</td><td>0</td><td>0</td><td>0</td><td>0</td></tr>\n",
       "</tbody>\n",
       "</table>\n"
      ],
      "text/latex": [
       "\\begin{tabular}{r|llllllllll}\n",
       " BodyWgt & BrainWgt & NonD & Dream & Sleep & Span & Gest & Pred & Exp & Danger\\\\\n",
       "\\hline\n",
       "\t 0 & 0 & 1 & 1 & 0 & 0 & 0 & 0 & 0 & 0\\\\\n",
       "\t 0 & 0 & 0 & 0 & 0 & 0 & 0 & 0 & 0 & 0\\\\\n",
       "\t 0 & 0 & 1 & 1 & 0 & 0 & 0 & 0 & 0 & 0\\\\\n",
       "\t 0 & 0 & 1 & 1 & 0 & 1 & 0 & 0 & 0 & 0\\\\\n",
       "\t 0 & 0 & 0 & 0 & 0 & 0 & 0 & 0 & 0 & 0\\\\\n",
       "\\end{tabular}\n"
      ],
      "text/markdown": [
       "\n",
       "BodyWgt | BrainWgt | NonD | Dream | Sleep | Span | Gest | Pred | Exp | Danger | \n",
       "|---|---|---|---|---|\n",
       "| 0 | 0 | 1 | 1 | 0 | 0 | 0 | 0 | 0 | 0 | \n",
       "| 0 | 0 | 0 | 0 | 0 | 0 | 0 | 0 | 0 | 0 | \n",
       "| 0 | 0 | 1 | 1 | 0 | 0 | 0 | 0 | 0 | 0 | \n",
       "| 0 | 0 | 1 | 1 | 0 | 1 | 0 | 0 | 0 | 0 | \n",
       "| 0 | 0 | 0 | 0 | 0 | 0 | 0 | 0 | 0 | 0 | \n",
       "\n",
       "\n"
      ],
      "text/plain": [
       "  BodyWgt BrainWgt NonD Dream Sleep Span Gest Pred Exp Danger\n",
       "1 0       0        1    1     0     0    0    0    0   0     \n",
       "2 0       0        0    0     0     0    0    0    0   0     \n",
       "3 0       0        1    1     0     0    0    0    0   0     \n",
       "4 0       0        1    1     0     1    0    0    0   0     \n",
       "5 0       0        0    0     0     0    0    0    0   0     "
      ]
     },
     "metadata": {},
     "output_type": "display_data"
    }
   ],
   "source": [
    "head(x, 5)"
   ]
  },
  {
   "cell_type": "code",
   "execution_count": 177,
   "metadata": {},
   "outputs": [
    {
     "data": {
      "text/html": [
       "<table>\n",
       "<thead><tr><th></th><th scope=col>NonD</th><th scope=col>Dream</th><th scope=col>Sleep</th><th scope=col>Span</th><th scope=col>Gest</th></tr></thead>\n",
       "<tbody>\n",
       "\t<tr><th scope=row>NonD</th><td> 1.0000000</td><td> 0.8017837</td><td> 0.3273268</td><td>-0.4909903</td><td>-0.7637626</td></tr>\n",
       "\t<tr><th scope=row>Dream</th><td> 0.8017837</td><td> 1.0000000</td><td>-0.1020621</td><td>-0.3572173</td><td>-0.6123724</td></tr>\n",
       "\t<tr><th scope=row>Sleep</th><td> 0.3273268</td><td>-0.1020621</td><td> 1.0000000</td><td>-0.2500000</td><td>-0.2500000</td></tr>\n",
       "\t<tr><th scope=row>Span</th><td>-0.4909903</td><td>-0.3572173</td><td>-0.2500000</td><td> 1.0000000</td><td> 0.0625000</td></tr>\n",
       "\t<tr><th scope=row>Gest</th><td>-0.7637626</td><td>-0.6123724</td><td>-0.2500000</td><td> 0.0625000</td><td> 1.0000000</td></tr>\n",
       "</tbody>\n",
       "</table>\n"
      ],
      "text/latex": [
       "\\begin{tabular}{r|lllll}\n",
       "  & NonD & Dream & Sleep & Span & Gest\\\\\n",
       "\\hline\n",
       "\tNonD &  1.0000000 &  0.8017837 &  0.3273268 & -0.4909903 & -0.7637626\\\\\n",
       "\tDream &  0.8017837 &  1.0000000 & -0.1020621 & -0.3572173 & -0.6123724\\\\\n",
       "\tSleep &  0.3273268 & -0.1020621 &  1.0000000 & -0.2500000 & -0.2500000\\\\\n",
       "\tSpan & -0.4909903 & -0.3572173 & -0.2500000 &  1.0000000 &  0.0625000\\\\\n",
       "\tGest & -0.7637626 & -0.6123724 & -0.2500000 &  0.0625000 &  1.0000000\\\\\n",
       "\\end{tabular}\n"
      ],
      "text/markdown": [
       "\n",
       "| <!--/--> | NonD | Dream | Sleep | Span | Gest | \n",
       "|---|---|---|---|---|\n",
       "| NonD |  1.0000000 |  0.8017837 |  0.3273268 | -0.4909903 | -0.7637626 | \n",
       "| Dream |  0.8017837 |  1.0000000 | -0.1020621 | -0.3572173 | -0.6123724 | \n",
       "| Sleep |  0.3273268 | -0.1020621 |  1.0000000 | -0.2500000 | -0.2500000 | \n",
       "| Span | -0.4909903 | -0.3572173 | -0.2500000 |  1.0000000 |  0.0625000 | \n",
       "| Gest | -0.7637626 | -0.6123724 | -0.2500000 |  0.0625000 |  1.0000000 | \n",
       "\n",
       "\n"
      ],
      "text/plain": [
       "      NonD       Dream      Sleep      Span       Gest      \n",
       "NonD   1.0000000  0.8017837  0.3273268 -0.4909903 -0.7637626\n",
       "Dream  0.8017837  1.0000000 -0.1020621 -0.3572173 -0.6123724\n",
       "Sleep  0.3273268 -0.1020621  1.0000000 -0.2500000 -0.2500000\n",
       "Span  -0.4909903 -0.3572173 -0.2500000  1.0000000  0.0625000\n",
       "Gest  -0.7637626 -0.6123724 -0.2500000  0.0625000  1.0000000"
      ]
     },
     "metadata": {},
     "output_type": "display_data"
    }
   ],
   "source": [
    "# 原代码报错,但以下代码应该有改进空间\n",
    "x1 <- apply(x,FUN=as.numeric,2)\n",
    "x2 <- apply(x1,FUN=sd,1)\n",
    "x3 <- apply(x1,FUN=sd,2)\n",
    "y <- x1[which(x2>0),which(x3>0)]\n",
    "cor(y)"
   ]
  },
  {
   "cell_type": "code",
   "execution_count": 181,
   "metadata": {},
   "outputs": [
    {
     "name": "stderr",
     "output_type": "stream",
     "text": [
      "Warning message in cor(sleep, y1, use = \"pairwise.complete.obs\"):\n",
      "\"标准差为零\""
     ]
    },
    {
     "data": {
      "text/html": [
       "<table>\n",
       "<thead><tr><th></th><th scope=col>NonD</th><th scope=col>Dream</th><th scope=col>Sleep</th><th scope=col>Span</th><th scope=col>Gest</th></tr></thead>\n",
       "<tbody>\n",
       "\t<tr><th scope=row>BodyWgt</th><td> 0.22682614 </td><td> 0.22259108 </td><td> 0.001684992</td><td>-0.05831706 </td><td>-0.05396818 </td></tr>\n",
       "\t<tr><th scope=row>BrainWgt</th><td> 0.17945923 </td><td> 0.16321105 </td><td> 0.007859438</td><td>-0.07921370 </td><td>-0.07332961 </td></tr>\n",
       "\t<tr><th scope=row>NonD</th><td>         NA </td><td>         NA </td><td>          NA</td><td>-0.04314514 </td><td>-0.04553485 </td></tr>\n",
       "\t<tr><th scope=row>Dream</th><td>-0.18895206 </td><td>         NA </td><td>-0.188952059</td><td> 0.11699247 </td><td> 0.22774685 </td></tr>\n",
       "\t<tr><th scope=row>Sleep</th><td>-0.08023157 </td><td>-0.08023157 </td><td>          NA</td><td> 0.09638044 </td><td> 0.03976464 </td></tr>\n",
       "\t<tr><th scope=row>Span</th><td> 0.08336361 </td><td> 0.05981377 </td><td> 0.005238852</td><td>         NA </td><td>-0.06527277 </td></tr>\n",
       "\t<tr><th scope=row>Gest</th><td> 0.20239201 </td><td> 0.05140232 </td><td> 0.159701523</td><td>-0.17495305 </td><td>         NA </td></tr>\n",
       "\t<tr><th scope=row>Pred</th><td> 0.04758438 </td><td>-0.06834378 </td><td> 0.202462711</td><td> 0.02313860 </td><td>-0.20101655 </td></tr>\n",
       "\t<tr><th scope=row>Exp</th><td> 0.24546836 </td><td> 0.12740768 </td><td> 0.260772984</td><td>-0.19291879 </td><td>-0.19291879 </td></tr>\n",
       "\t<tr><th scope=row>Danger</th><td> 0.06528387 </td><td>-0.06724755 </td><td> 0.208883617</td><td>-0.06666498 </td><td>-0.20443928 </td></tr>\n",
       "</tbody>\n",
       "</table>\n"
      ],
      "text/latex": [
       "\\begin{tabular}{r|lllll}\n",
       "  & NonD & Dream & Sleep & Span & Gest\\\\\n",
       "\\hline\n",
       "\tBodyWgt &  0.22682614  &  0.22259108  &  0.001684992 & -0.05831706  & -0.05396818 \\\\\n",
       "\tBrainWgt &  0.17945923  &  0.16321105  &  0.007859438 & -0.07921370  & -0.07332961 \\\\\n",
       "\tNonD &          NA  &          NA  &           NA & -0.04314514  & -0.04553485 \\\\\n",
       "\tDream & -0.18895206  &          NA  & -0.188952059 &  0.11699247  &  0.22774685 \\\\\n",
       "\tSleep & -0.08023157  & -0.08023157  &           NA &  0.09638044  &  0.03976464 \\\\\n",
       "\tSpan &  0.08336361  &  0.05981377  &  0.005238852 &          NA  & -0.06527277 \\\\\n",
       "\tGest &  0.20239201  &  0.05140232  &  0.159701523 & -0.17495305  &          NA \\\\\n",
       "\tPred &  0.04758438  & -0.06834378  &  0.202462711 &  0.02313860  & -0.20101655 \\\\\n",
       "\tExp &  0.24546836  &  0.12740768  &  0.260772984 & -0.19291879  & -0.19291879 \\\\\n",
       "\tDanger &  0.06528387  & -0.06724755  &  0.208883617 & -0.06666498  & -0.20443928 \\\\\n",
       "\\end{tabular}\n"
      ],
      "text/markdown": [
       "\n",
       "| <!--/--> | NonD | Dream | Sleep | Span | Gest | \n",
       "|---|---|---|---|---|---|---|---|---|---|\n",
       "| BodyWgt |  0.22682614  |  0.22259108  |  0.001684992 | -0.05831706  | -0.05396818  | \n",
       "| BrainWgt |  0.17945923  |  0.16321105  |  0.007859438 | -0.07921370  | -0.07332961  | \n",
       "| NonD |          NA  |          NA  |           NA | -0.04314514  | -0.04553485  | \n",
       "| Dream | -0.18895206  |          NA  | -0.188952059 |  0.11699247  |  0.22774685  | \n",
       "| Sleep | -0.08023157  | -0.08023157  |           NA |  0.09638044  |  0.03976464  | \n",
       "| Span |  0.08336361  |  0.05981377  |  0.005238852 |          NA  | -0.06527277  | \n",
       "| Gest |  0.20239201  |  0.05140232  |  0.159701523 | -0.17495305  |          NA  | \n",
       "| Pred |  0.04758438  | -0.06834378  |  0.202462711 |  0.02313860  | -0.20101655  | \n",
       "| Exp |  0.24546836  |  0.12740768  |  0.260772984 | -0.19291879  | -0.19291879  | \n",
       "| Danger |  0.06528387  | -0.06724755  |  0.208883617 | -0.06666498  | -0.20443928  | \n",
       "\n",
       "\n"
      ],
      "text/plain": [
       "         NonD        Dream       Sleep        Span        Gest       \n",
       "BodyWgt   0.22682614  0.22259108  0.001684992 -0.05831706 -0.05396818\n",
       "BrainWgt  0.17945923  0.16321105  0.007859438 -0.07921370 -0.07332961\n",
       "NonD              NA          NA           NA -0.04314514 -0.04553485\n",
       "Dream    -0.18895206          NA -0.188952059  0.11699247  0.22774685\n",
       "Sleep    -0.08023157 -0.08023157           NA  0.09638044  0.03976464\n",
       "Span      0.08336361  0.05981377  0.005238852          NA -0.06527277\n",
       "Gest      0.20239201  0.05140232  0.159701523 -0.17495305          NA\n",
       "Pred      0.04758438 -0.06834378  0.202462711  0.02313860 -0.20101655\n",
       "Exp       0.24546836  0.12740768  0.260772984 -0.19291879 -0.19291879\n",
       "Danger    0.06528387 -0.06724755  0.208883617 -0.06666498 -0.20443928"
      ]
     },
     "metadata": {},
     "output_type": "display_data"
    }
   ],
   "source": [
    "y1 <- x1[,which(x3>0)]\n",
    "cor(sleep, y1, use = \"pairwise.complete.obs\")"
   ]
  },
  {
   "cell_type": "code",
   "execution_count": 187,
   "metadata": {},
   "outputs": [
    {
     "name": "stdout",
     "output_type": "stream",
     "text": [
      "\n",
      " iter imp variable\n",
      "  1   1  NonD  Dream  Sleep  Span  Gest\n",
      "  1   2  NonD  Dream  Sleep  Span  Gest\n",
      "  1   3  NonD  Dream  Sleep  Span  Gest\n",
      "  1   4  NonD  Dream  Sleep  Span  Gest\n",
      "  1   5  NonD  Dream  Sleep  Span  Gest\n",
      "  2   1  NonD  Dream  Sleep  Span  Gest\n",
      "  2   2  NonD  Dream  Sleep  Span  Gest\n",
      "  2   3  NonD  Dream  Sleep  Span  Gest\n",
      "  2   4  NonD  Dream  Sleep  Span  Gest\n",
      "  2   5  NonD  Dream  Sleep  Span  Gest\n",
      "  3   1  NonD  Dream  Sleep  Span  Gest\n",
      "  3   2  NonD  Dream  Sleep  Span  Gest\n",
      "  3   3  NonD  Dream  Sleep  Span  Gest\n",
      "  3   4  NonD  Dream  Sleep  Span  Gest\n",
      "  3   5  NonD  Dream  Sleep  Span  Gest\n",
      "  4   1  NonD  Dream  Sleep  Span  Gest\n",
      "  4   2  NonD  Dream  Sleep  Span  Gest\n",
      "  4   3  NonD  Dream  Sleep  Span  Gest\n",
      "  4   4  NonD  Dream  Sleep  Span  Gest\n",
      "  4   5  NonD  Dream  Sleep  Span  Gest\n",
      "  5   1  NonD  Dream  Sleep  Span  Gest\n",
      "  5   2  NonD  Dream  Sleep  Span  Gest\n",
      "  5   3  NonD  Dream  Sleep  Span  Gest\n",
      "  5   4  NonD  Dream  Sleep  Span  Gest\n",
      "  5   5  NonD  Dream  Sleep  Span  Gest\n"
     ]
    }
   ],
   "source": [
    "# 多重插补\n",
    "library(mice)\n",
    "imp <- mice(sleep, m=5, seed=1234)"
   ]
  },
  {
   "cell_type": "code",
   "execution_count": 190,
   "metadata": {},
   "outputs": [
    {
     "data": {
      "text/html": [
       "<table>\n",
       "<thead><tr><th></th><th scope=col>est</th><th scope=col>se</th><th scope=col>t</th><th scope=col>df</th><th scope=col>Pr(&gt;|t|)</th><th scope=col>lo 95</th><th scope=col>hi 95</th><th scope=col>nmis</th><th scope=col>fmi</th><th scope=col>lambda</th></tr></thead>\n",
       "<tbody>\n",
       "\t<tr><th scope=row>(Intercept)</th><td> 2.546199168 </td><td>0.254689696  </td><td> 9.997260    </td><td>52.12563     </td><td>1.021405e-13 </td><td> 2.035156222 </td><td> 3.0572421151</td><td>NA           </td><td>0.08710301   </td><td>0.05273554   </td></tr>\n",
       "\t<tr><th scope=row>Span</th><td>-0.004548904 </td><td>0.012039106  </td><td>-0.377844    </td><td>51.94538     </td><td>7.070861e-01 </td><td>-0.028707741 </td><td> 0.0196099340</td><td> 4           </td><td>0.08860195   </td><td>0.05417409   </td></tr>\n",
       "\t<tr><th scope=row>Gest</th><td>-0.003916211 </td><td>0.001468788  </td><td>-2.666287    </td><td>55.55683     </td><td>1.002562e-02 </td><td>-0.006859066 </td><td>-0.0009733567</td><td> 4           </td><td>0.05442170   </td><td>0.02098354   </td></tr>\n",
       "</tbody>\n",
       "</table>\n"
      ],
      "text/latex": [
       "\\begin{tabular}{r|llllllllll}\n",
       "  & est & se & t & df & Pr(>\\textbar{}t\\textbar{}) & lo 95 & hi 95 & nmis & fmi & lambda\\\\\n",
       "\\hline\n",
       "\t(Intercept) &  2.546199168  & 0.254689696   &  9.997260     & 52.12563      & 1.021405e-13  &  2.035156222  &  3.0572421151 & NA            & 0.08710301    & 0.05273554   \\\\\n",
       "\tSpan & -0.004548904  & 0.012039106   & -0.377844     & 51.94538      & 7.070861e-01  & -0.028707741  &  0.0196099340 &  4            & 0.08860195    & 0.05417409   \\\\\n",
       "\tGest & -0.003916211  & 0.001468788   & -2.666287     & 55.55683      & 1.002562e-02  & -0.006859066  & -0.0009733567 &  4            & 0.05442170    & 0.02098354   \\\\\n",
       "\\end{tabular}\n"
      ],
      "text/markdown": [
       "\n",
       "| <!--/--> | est | se | t | df | Pr(>|t|) | lo 95 | hi 95 | nmis | fmi | lambda | \n",
       "|---|---|---|\n",
       "| (Intercept) |  2.546199168  | 0.254689696   |  9.997260     | 52.12563      | 1.021405e-13  |  2.035156222  |  3.0572421151 | NA            | 0.08710301    | 0.05273554    | \n",
       "| Span | -0.004548904  | 0.012039106   | -0.377844     | 51.94538      | 7.070861e-01  | -0.028707741  |  0.0196099340 |  4            | 0.08860195    | 0.05417409    | \n",
       "| Gest | -0.003916211  | 0.001468788   | -2.666287     | 55.55683      | 1.002562e-02  | -0.006859066  | -0.0009733567 |  4            | 0.05442170    | 0.02098354    | \n",
       "\n",
       "\n"
      ],
      "text/plain": [
       "            est          se          t         df       Pr(>|t|)    \n",
       "(Intercept)  2.546199168 0.254689696  9.997260 52.12563 1.021405e-13\n",
       "Span        -0.004548904 0.012039106 -0.377844 51.94538 7.070861e-01\n",
       "Gest        -0.003916211 0.001468788 -2.666287 55.55683 1.002562e-02\n",
       "            lo 95        hi 95         nmis fmi        lambda    \n",
       "(Intercept)  2.035156222  3.0572421151 NA   0.08710301 0.05273554\n",
       "Span        -0.028707741  0.0196099340  4   0.08860195 0.05417409\n",
       "Gest        -0.006859066 -0.0009733567  4   0.05442170 0.02098354"
      ]
     },
     "metadata": {},
     "output_type": "display_data"
    }
   ],
   "source": [
    "fit <- with(imp, lm(Dream ~ Span + Gest))\n",
    "pooled <- pool(fit)\n",
    "summary(pooled)"
   ]
  },
  {
   "cell_type": "code",
   "execution_count": 192,
   "metadata": {},
   "outputs": [
    {
     "data": {
      "text/html": [
       "<table>\n",
       "<thead><tr><th></th><th scope=col>1</th><th scope=col>2</th><th scope=col>3</th><th scope=col>4</th><th scope=col>5</th></tr></thead>\n",
       "<tbody>\n",
       "\t<tr><th scope=row>1</th><td>1.0</td><td>0.5</td><td>0.5</td><td>0.5</td><td>0.3</td></tr>\n",
       "\t<tr><th scope=row>3</th><td>2.6</td><td>2.1</td><td>1.5</td><td>1.8</td><td>1.3</td></tr>\n",
       "\t<tr><th scope=row>4</th><td>3.4</td><td>3.1</td><td>3.4</td><td>1.2</td><td>3.4</td></tr>\n",
       "\t<tr><th scope=row>14</th><td>0.3</td><td>0.5</td><td>0.5</td><td>0.3</td><td>1.2</td></tr>\n",
       "\t<tr><th scope=row>24</th><td>1.8</td><td>1.3</td><td>3.6</td><td>0.9</td><td>5.6</td></tr>\n",
       "\t<tr><th scope=row>26</th><td>2.3</td><td>3.1</td><td>2.0</td><td>2.6</td><td>2.1</td></tr>\n",
       "\t<tr><th scope=row>30</th><td>1.2</td><td>0.3</td><td>3.4</td><td>2.6</td><td>2.3</td></tr>\n",
       "\t<tr><th scope=row>31</th><td>3.4</td><td>0.5</td><td>0.6</td><td>1.0</td><td>0.5</td></tr>\n",
       "\t<tr><th scope=row>47</th><td>0.5</td><td>1.5</td><td>1.5</td><td>2.2</td><td>3.4</td></tr>\n",
       "\t<tr><th scope=row>53</th><td>0.3</td><td>0.5</td><td>0.5</td><td>0.5</td><td>0.6</td></tr>\n",
       "\t<tr><th scope=row>55</th><td>0.5</td><td>0.9</td><td>2.6</td><td>2.7</td><td>2.4</td></tr>\n",
       "\t<tr><th scope=row>62</th><td>1.0</td><td>2.1</td><td>0.5</td><td>3.9</td><td>3.6</td></tr>\n",
       "</tbody>\n",
       "</table>\n"
      ],
      "text/latex": [
       "\\begin{tabular}{r|lllll}\n",
       "  & 1 & 2 & 3 & 4 & 5\\\\\n",
       "\\hline\n",
       "\t1 & 1.0 & 0.5 & 0.5 & 0.5 & 0.3\\\\\n",
       "\t3 & 2.6 & 2.1 & 1.5 & 1.8 & 1.3\\\\\n",
       "\t4 & 3.4 & 3.1 & 3.4 & 1.2 & 3.4\\\\\n",
       "\t14 & 0.3 & 0.5 & 0.5 & 0.3 & 1.2\\\\\n",
       "\t24 & 1.8 & 1.3 & 3.6 & 0.9 & 5.6\\\\\n",
       "\t26 & 2.3 & 3.1 & 2.0 & 2.6 & 2.1\\\\\n",
       "\t30 & 1.2 & 0.3 & 3.4 & 2.6 & 2.3\\\\\n",
       "\t31 & 3.4 & 0.5 & 0.6 & 1.0 & 0.5\\\\\n",
       "\t47 & 0.5 & 1.5 & 1.5 & 2.2 & 3.4\\\\\n",
       "\t53 & 0.3 & 0.5 & 0.5 & 0.5 & 0.6\\\\\n",
       "\t55 & 0.5 & 0.9 & 2.6 & 2.7 & 2.4\\\\\n",
       "\t62 & 1.0 & 2.1 & 0.5 & 3.9 & 3.6\\\\\n",
       "\\end{tabular}\n"
      ],
      "text/markdown": [
       "\n",
       "| <!--/--> | 1 | 2 | 3 | 4 | 5 | \n",
       "|---|---|---|---|---|---|---|---|---|---|---|---|\n",
       "| 1 | 1.0 | 0.5 | 0.5 | 0.5 | 0.3 | \n",
       "| 3 | 2.6 | 2.1 | 1.5 | 1.8 | 1.3 | \n",
       "| 4 | 3.4 | 3.1 | 3.4 | 1.2 | 3.4 | \n",
       "| 14 | 0.3 | 0.5 | 0.5 | 0.3 | 1.2 | \n",
       "| 24 | 1.8 | 1.3 | 3.6 | 0.9 | 5.6 | \n",
       "| 26 | 2.3 | 3.1 | 2.0 | 2.6 | 2.1 | \n",
       "| 30 | 1.2 | 0.3 | 3.4 | 2.6 | 2.3 | \n",
       "| 31 | 3.4 | 0.5 | 0.6 | 1.0 | 0.5 | \n",
       "| 47 | 0.5 | 1.5 | 1.5 | 2.2 | 3.4 | \n",
       "| 53 | 0.3 | 0.5 | 0.5 | 0.5 | 0.6 | \n",
       "| 55 | 0.5 | 0.9 | 2.6 | 2.7 | 2.4 | \n",
       "| 62 | 1.0 | 2.1 | 0.5 | 3.9 | 3.6 | \n",
       "\n",
       "\n"
      ],
      "text/plain": [
       "   1   2   3   4   5  \n",
       "1  1.0 0.5 0.5 0.5 0.3\n",
       "3  2.6 2.1 1.5 1.8 1.3\n",
       "4  3.4 3.1 3.4 1.2 3.4\n",
       "14 0.3 0.5 0.5 0.3 1.2\n",
       "24 1.8 1.3 3.6 0.9 5.6\n",
       "26 2.3 3.1 2.0 2.6 2.1\n",
       "30 1.2 0.3 3.4 2.6 2.3\n",
       "31 3.4 0.5 0.6 1.0 0.5\n",
       "47 0.5 1.5 1.5 2.2 3.4\n",
       "53 0.3 0.5 0.5 0.5 0.6\n",
       "55 0.5 0.9 2.6 2.7 2.4\n",
       "62 1.0 2.1 0.5 3.9 3.6"
      ]
     },
     "metadata": {},
     "output_type": "display_data"
    }
   ],
   "source": [
    "imp$imp$Dream"
   ]
  },
  {
   "cell_type": "code",
   "execution_count": 195,
   "metadata": {},
   "outputs": [
    {
     "data": {
      "text/html": [
       "<table>\n",
       "<thead><tr><th scope=col>BodyWgt</th><th scope=col>BrainWgt</th><th scope=col>NonD</th><th scope=col>Dream</th><th scope=col>Sleep</th><th scope=col>Span</th><th scope=col>Gest</th><th scope=col>Pred</th><th scope=col>Exp</th><th scope=col>Danger</th></tr></thead>\n",
       "<tbody>\n",
       "\t<tr><td>6654.000</td><td>5712.0  </td><td> 2.1    </td><td>0.5     </td><td> 3.3    </td><td>38.6    </td><td>645     </td><td>3       </td><td>5       </td><td>3       </td></tr>\n",
       "\t<tr><td>   1.000</td><td>   6.6  </td><td> 6.3    </td><td>2.0     </td><td> 8.3    </td><td> 4.5    </td><td> 42     </td><td>3       </td><td>1       </td><td>3       </td></tr>\n",
       "\t<tr><td>   3.385</td><td>  44.5  </td><td>11.0    </td><td>1.5     </td><td>12.5    </td><td>14.0    </td><td> 60     </td><td>1       </td><td>1       </td><td>1       </td></tr>\n",
       "\t<tr><td>   0.920</td><td>   5.7  </td><td>13.2    </td><td>3.4     </td><td>16.5    </td><td> 2.0    </td><td> 25     </td><td>5       </td><td>2       </td><td>3       </td></tr>\n",
       "\t<tr><td>2547.000</td><td>4603.0  </td><td> 2.1    </td><td>1.8     </td><td> 3.9    </td><td>69.0    </td><td>624     </td><td>3       </td><td>5       </td><td>4       </td></tr>\n",
       "\t<tr><td>  10.550</td><td> 179.5  </td><td> 9.1    </td><td>0.7     </td><td> 9.8    </td><td>27.0    </td><td>180     </td><td>4       </td><td>4       </td><td>4       </td></tr>\n",
       "</tbody>\n",
       "</table>\n"
      ],
      "text/latex": [
       "\\begin{tabular}{r|llllllllll}\n",
       " BodyWgt & BrainWgt & NonD & Dream & Sleep & Span & Gest & Pred & Exp & Danger\\\\\n",
       "\\hline\n",
       "\t 6654.000 & 5712.0   &  2.1     & 0.5      &  3.3     & 38.6     & 645      & 3        & 5        & 3       \\\\\n",
       "\t    1.000 &    6.6   &  6.3     & 2.0      &  8.3     &  4.5     &  42      & 3        & 1        & 3       \\\\\n",
       "\t    3.385 &   44.5   & 11.0     & 1.5      & 12.5     & 14.0     &  60      & 1        & 1        & 1       \\\\\n",
       "\t    0.920 &    5.7   & 13.2     & 3.4      & 16.5     &  2.0     &  25      & 5        & 2        & 3       \\\\\n",
       "\t 2547.000 & 4603.0   &  2.1     & 1.8      &  3.9     & 69.0     & 624      & 3        & 5        & 4       \\\\\n",
       "\t   10.550 &  179.5   &  9.1     & 0.7      &  9.8     & 27.0     & 180      & 4        & 4        & 4       \\\\\n",
       "\\end{tabular}\n"
      ],
      "text/markdown": [
       "\n",
       "BodyWgt | BrainWgt | NonD | Dream | Sleep | Span | Gest | Pred | Exp | Danger | \n",
       "|---|---|---|---|---|---|\n",
       "| 6654.000 | 5712.0   |  2.1     | 0.5      |  3.3     | 38.6     | 645      | 3        | 5        | 3        | \n",
       "|    1.000 |    6.6   |  6.3     | 2.0      |  8.3     |  4.5     |  42      | 3        | 1        | 3        | \n",
       "|    3.385 |   44.5   | 11.0     | 1.5      | 12.5     | 14.0     |  60      | 1        | 1        | 1        | \n",
       "|    0.920 |    5.7   | 13.2     | 3.4      | 16.5     |  2.0     |  25      | 5        | 2        | 3        | \n",
       "| 2547.000 | 4603.0   |  2.1     | 1.8      |  3.9     | 69.0     | 624      | 3        | 5        | 4        | \n",
       "|   10.550 |  179.5   |  9.1     | 0.7      |  9.8     | 27.0     | 180      | 4        | 4        | 4        | \n",
       "\n",
       "\n"
      ],
      "text/plain": [
       "  BodyWgt  BrainWgt NonD Dream Sleep Span Gest Pred Exp Danger\n",
       "1 6654.000 5712.0    2.1 0.5    3.3  38.6 645  3    5   3     \n",
       "2    1.000    6.6    6.3 2.0    8.3   4.5  42  3    1   3     \n",
       "3    3.385   44.5   11.0 1.5   12.5  14.0  60  1    1   1     \n",
       "4    0.920    5.7   13.2 3.4   16.5   2.0  25  5    2   3     \n",
       "5 2547.000 4603.0    2.1 1.8    3.9  69.0 624  3    5   4     \n",
       "6   10.550  179.5    9.1 0.7    9.8  27.0 180  4    4   4     "
      ]
     },
     "metadata": {},
     "output_type": "display_data"
    }
   ],
   "source": [
    "dataset3 <- complete(imp,action=3)\n",
    "head(dataset3)"
   ]
  }
 ],
 "metadata": {
  "kernelspec": {
   "display_name": "R",
   "language": "R",
   "name": "ir"
  },
  "language_info": {
   "codemirror_mode": "r",
   "file_extension": ".r",
   "mimetype": "text/x-r-source",
   "name": "R",
   "pygments_lexer": "r",
   "version": "3.4.4"
  }
 },
 "nbformat": 4,
 "nbformat_minor": 2
}
